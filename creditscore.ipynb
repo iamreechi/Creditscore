{
  "nbformat": 4,
  "nbformat_minor": 0,
  "metadata": {
    "accelerator": "GPU",
    "colab": {
      "name": "creditscore.ipynb",
      "provenance": [],
      "collapsed_sections": [
        "DOoqo0bXCTba",
        "uOpwv7iICTbe",
        "r5O-LZITCTbk",
        "tmgFQ3U2CTbl",
        "6ZAHrlotCTbm",
        "IHAzD_3xCTbn",
        "RGzgNtSNCTbo",
        "CKmiNdj1CTb2",
        "J6QoMBktCTb4",
        "9BLSXQVjCTb4",
        "yKIvGuoRCTb7",
        "QuM78ooigX6p",
        "bG5x9kOavnXc"
      ],
      "toc_visible": true
    },
    "kernelspec": {
      "display_name": "Python 3",
      "name": "python3"
    }
  },
  "cells": [
    {
      "cell_type": "code",
      "metadata": {
        "colab": {
          "background_save": true
        },
        "id": "Vu9aNyeKDJyU",
        "outputId": "a27cd442-139d-4e51-ff46-ad5c73606652"
      },
      "source": [
        "from google.colab import drive\n",
        "drive.mount('/content/drive')"
      ],
      "execution_count": null,
      "outputs": [
        {
          "output_type": "stream",
          "text": [
            "Mounted at /content/drive\n"
          ],
          "name": "stdout"
        }
      ]
    },
    {
      "cell_type": "markdown",
      "metadata": {
        "id": "G4JXU75fCTa6"
      },
      "source": [
        "**Prepare Problem**"
      ]
    },
    {
      "cell_type": "markdown",
      "metadata": {
        "id": "xlSX7gCF1Y1T"
      },
      "source": [
        "This Business problem span accross the world and its a major issue globally. Its has made Financial institution go bankcrupt as a case of 2008 in the USA.Bank and other Financial institution  provide funds for potential borrowers and in reture earn a profit depending on the risk they take (the borrowers credit score). They provides loan to their loyal customers. The purpose of this work is to combine Machine learning Intution across customer available data such as credit score gotten from a reliable organisation. This dataset is gotten from Kaggle and its for learning purposes. I dont have any intention for Plagiarism any data."
      ]
    },
    {
      "cell_type": "markdown",
      "metadata": {
        "id": "U0C3vlzt-z8T"
      },
      "source": [
        "**2. Approach to solve described problem**"
      ]
    },
    {
      "cell_type": "markdown",
      "metadata": {
        "id": "s04gvjAh8wCq"
      },
      "source": [
        " There are over 100,000 data available for analysis. Two algorithm will be used for evaluation Logistic Regression and Random Forest classifier. we will select one that best suit the given data which will be evaluated based on their AUC score\r\n",
        "\r\n",
        "AUC(Area under curve) score represents degree or measure of separability. It tells how much model is capable of distinguishing between classes. Higher the AUC, better the model is at predicting 0s as 0s and 1s as 1s or probabiity. For this problem we will  predit probability. The reason for predicting probability is give the company a range of score for each customer which will be use for **Risk Management**"
      ]
    },
    {
      "cell_type": "markdown",
      "metadata": {
        "id": "pgx90sz7_Sj5"
      },
      "source": [
        "**3. What result we need**"
      ]
    },
    {
      "cell_type": "markdown",
      "metadata": {
        "id": "j0HlhVtM_ZNo"
      },
      "source": [
        "1. Check in the data is imbalance and use SMOTE technique to see if this solove the problem\r\n",
        "\r\n",
        "2. Convert Loan Status column to binary in order to use as our Dependent variable \r\n",
        "\r\n",
        "3. Metric for each classifier: AUC score, precision and recall "
      ]
    },
    {
      "cell_type": "markdown",
      "metadata": {
        "id": "ESB4vmUt_Zym"
      },
      "source": [
        "**4. Implement solution in python**"
      ]
    },
    {
      "cell_type": "markdown",
      "metadata": {
        "id": "2Zpnz3CCCTbK"
      },
      "source": [
        "#### Load the Data"
      ]
    },
    {
      "cell_type": "markdown",
      "metadata": {
        "id": "orSBmGv1CTbL"
      },
      "source": [
        "#### Import Libraries\n",
        "* Importing all neccessary python modules, functions and objects we are going to use to solve this business problem."
      ]
    },
    {
      "cell_type": "code",
      "metadata": {
        "id": "NMYZy3bYCTbM"
      },
      "source": [
        "# Load libraries\n",
        "import numpy as np\n",
        "import matplotlib as plt\n",
        "from matplotlib import pyplot\n",
        "import pandas as pd\n",
        "import matplotlib.pyplot as plt\n",
        "import seaborn as sns\n",
        "from IPython.display import display, HTML\n",
        "pd.options.display.max_columns = None\n",
        "from pandas import set_option\n",
        "from pandas.plotting import scatter_matrix\n",
        "from sklearn.preprocessing import LabelEncoder, OneHotEncoder # To deal with Categorical Data in Target Vector.\n",
        "from sklearn.preprocessing import StandardScaler\n",
        "from sklearn.model_selection import train_test_split\n",
        "from sklearn.model_selection import KFold\n",
        "from imblearn.over_sampling import SMOTE, RandomOverSampler, BorderlineSMOTE\n",
        "from collections import Counter\n",
        "from sklearn.model_selection import cross_val_score\n",
        "frofrom sklearn.model_selection import StratifiedKFold\n",
        "from sklearn.metrics import classification_report\n",
        "from sklearn.metrics import confusion_matrix\n",
        "from sklearn.metrics import accuracy_score\n",
        "from sklearn.linear_model import LogisticRegression\n",
        "from sklearn.ensemble import RandomForestClassifier\n"
      ],
      "execution_count": null,
      "outputs": []
    },
    {
      "cell_type": "markdown",
      "metadata": {
        "id": "xFDZId8pCTbN"
      },
      "source": [
        "* The dataset  was gotten from Kaggle  [click here](https://www.kaggle.com/zaurbegiev/my-dataset/download) to download."
      ]
    },
    {
      "cell_type": "markdown",
      "metadata": {
        "id": "v4sR-u_wCTbO"
      },
      "source": [
        "#### 1b. Load dataset"
      ]
    },
    {
      "cell_type": "code",
      "metadata": {
        "id": "XMPskfinCTbP"
      },
      "source": [
        "train = 'credit_train.csv'\n",
        "test = 'credit_test.csv'\n",
        "train = pd.read_csv(train,  sep=',', low_memory=False)\n",
        "test = pd.read_csv(test,  sep=',', low_memory=False) "
      ],
      "execution_count": null,
      "outputs": []
    },
    {
      "cell_type": "markdown",
      "metadata": {
        "id": "Cp9NZLHoCTbP"
      },
      "source": [
        "### Summarize the Dataset"
      ]
    },
    {
      "cell_type": "markdown",
      "metadata": {
        "id": "_td6-HmGCTbQ"
      },
      "source": [
        "In this step we are going to take a look at the data in a few different ways:\n",
        "* Dimensions of the dataset.\n",
        "* Peek at the data itself.\n",
        "* Statistical summary of all attributes.\n",
        "* Breakdown of the data by the class variable."
      ]
    },
    {
      "cell_type": "markdown",
      "metadata": {
        "id": "J0HbWxZTCTbR"
      },
      "source": [
        "#### Dimensions of Dataset"
      ]
    },
    {
      "cell_type": "code",
      "metadata": {
        "colab": {
          "base_uri": "https://localhost:8080/"
        },
        "id": "0RRgm9IqCTbR",
        "outputId": "cb1a60df-b75f-4178-b76c-fd520ea7c6b9"
      },
      "source": [
        "nRow, nCol = train.shape\n",
        "print(f'There are {nRow} rows and {nCol} columns')"
      ],
      "execution_count": null,
      "outputs": [
        {
          "output_type": "stream",
          "text": [
            "There are 100514 rows and 19 columns\n"
          ],
          "name": "stdout"
        }
      ]
    },
    {
      "cell_type": "code",
      "metadata": {
        "colab": {
          "base_uri": "https://localhost:8080/"
        },
        "id": "SbMj7YAcCTbU",
        "outputId": "56fe85fa-1959-4c48-dfea-f158e858ff60"
      },
      "source": [
        "nRow, nCol = test.shape\n",
        "print(f'There are {nRow} rows and {nCol} columns')"
      ],
      "execution_count": null,
      "outputs": [
        {
          "output_type": "stream",
          "text": [
            "There are 10353 rows and 18 columns\n"
          ],
          "name": "stdout"
        }
      ]
    },
    {
      "cell_type": "markdown",
      "metadata": {
        "id": "cZ4pCjxoCTbV"
      },
      "source": [
        "#### Peek at the data"
      ]
    },
    {
      "cell_type": "code",
      "metadata": {
        "colab": {
          "base_uri": "https://localhost:8080/",
          "height": 530
        },
        "id": "LvyHpwddCTbV",
        "outputId": "e58aa36d-ed3e-4fb9-8180-54e64c3304f8"
      },
      "source": [
        "train.head()"
      ],
      "execution_count": null,
      "outputs": [
        {
          "output_type": "execute_result",
          "data": {
            "text/html": [
              "<div>\n",
              "<style scoped>\n",
              "    .dataframe tbody tr th:only-of-type {\n",
              "        vertical-align: middle;\n",
              "    }\n",
              "\n",
              "    .dataframe tbody tr th {\n",
              "        vertical-align: top;\n",
              "    }\n",
              "\n",
              "    .dataframe thead th {\n",
              "        text-align: right;\n",
              "    }\n",
              "</style>\n",
              "<table border=\"1\" class=\"dataframe\">\n",
              "  <thead>\n",
              "    <tr style=\"text-align: right;\">\n",
              "      <th></th>\n",
              "      <th>Loan ID</th>\n",
              "      <th>Customer ID</th>\n",
              "      <th>Loan Status</th>\n",
              "      <th>Current Loan Amount</th>\n",
              "      <th>Term</th>\n",
              "      <th>Credit Score</th>\n",
              "      <th>Annual Income</th>\n",
              "      <th>Years in current job</th>\n",
              "      <th>Home Ownership</th>\n",
              "      <th>Purpose</th>\n",
              "      <th>Monthly Debt</th>\n",
              "      <th>Years of Credit History</th>\n",
              "      <th>Months since last delinquent</th>\n",
              "      <th>Number of Open Accounts</th>\n",
              "      <th>Number of Credit Problems</th>\n",
              "      <th>Current Credit Balance</th>\n",
              "      <th>Maximum Open Credit</th>\n",
              "      <th>Bankruptcies</th>\n",
              "      <th>Tax Liens</th>\n",
              "    </tr>\n",
              "  </thead>\n",
              "  <tbody>\n",
              "    <tr>\n",
              "      <th>0</th>\n",
              "      <td>14dd8831-6af5-400b-83ec-68e61888a048</td>\n",
              "      <td>981165ec-3274-42f5-a3b4-d104041a9ca9</td>\n",
              "      <td>Fully Paid</td>\n",
              "      <td>445412.0</td>\n",
              "      <td>Short Term</td>\n",
              "      <td>709.0</td>\n",
              "      <td>1167493.0</td>\n",
              "      <td>8 years</td>\n",
              "      <td>Home Mortgage</td>\n",
              "      <td>Home Improvements</td>\n",
              "      <td>5214.74</td>\n",
              "      <td>17.2</td>\n",
              "      <td>NaN</td>\n",
              "      <td>6.0</td>\n",
              "      <td>1.0</td>\n",
              "      <td>228190.0</td>\n",
              "      <td>416746.0</td>\n",
              "      <td>1.0</td>\n",
              "      <td>0.0</td>\n",
              "    </tr>\n",
              "    <tr>\n",
              "      <th>1</th>\n",
              "      <td>4771cc26-131a-45db-b5aa-537ea4ba5342</td>\n",
              "      <td>2de017a3-2e01-49cb-a581-08169e83be29</td>\n",
              "      <td>Fully Paid</td>\n",
              "      <td>262328.0</td>\n",
              "      <td>Short Term</td>\n",
              "      <td>NaN</td>\n",
              "      <td>NaN</td>\n",
              "      <td>10+ years</td>\n",
              "      <td>Home Mortgage</td>\n",
              "      <td>Debt Consolidation</td>\n",
              "      <td>33295.98</td>\n",
              "      <td>21.1</td>\n",
              "      <td>8.0</td>\n",
              "      <td>35.0</td>\n",
              "      <td>0.0</td>\n",
              "      <td>229976.0</td>\n",
              "      <td>850784.0</td>\n",
              "      <td>0.0</td>\n",
              "      <td>0.0</td>\n",
              "    </tr>\n",
              "    <tr>\n",
              "      <th>2</th>\n",
              "      <td>4eed4e6a-aa2f-4c91-8651-ce984ee8fb26</td>\n",
              "      <td>5efb2b2b-bf11-4dfd-a572-3761a2694725</td>\n",
              "      <td>Fully Paid</td>\n",
              "      <td>99999999.0</td>\n",
              "      <td>Short Term</td>\n",
              "      <td>741.0</td>\n",
              "      <td>2231892.0</td>\n",
              "      <td>8 years</td>\n",
              "      <td>Own Home</td>\n",
              "      <td>Debt Consolidation</td>\n",
              "      <td>29200.53</td>\n",
              "      <td>14.9</td>\n",
              "      <td>29.0</td>\n",
              "      <td>18.0</td>\n",
              "      <td>1.0</td>\n",
              "      <td>297996.0</td>\n",
              "      <td>750090.0</td>\n",
              "      <td>0.0</td>\n",
              "      <td>0.0</td>\n",
              "    </tr>\n",
              "    <tr>\n",
              "      <th>3</th>\n",
              "      <td>77598f7b-32e7-4e3b-a6e5-06ba0d98fe8a</td>\n",
              "      <td>e777faab-98ae-45af-9a86-7ce5b33b1011</td>\n",
              "      <td>Fully Paid</td>\n",
              "      <td>347666.0</td>\n",
              "      <td>Long Term</td>\n",
              "      <td>721.0</td>\n",
              "      <td>806949.0</td>\n",
              "      <td>3 years</td>\n",
              "      <td>Own Home</td>\n",
              "      <td>Debt Consolidation</td>\n",
              "      <td>8741.90</td>\n",
              "      <td>12.0</td>\n",
              "      <td>NaN</td>\n",
              "      <td>9.0</td>\n",
              "      <td>0.0</td>\n",
              "      <td>256329.0</td>\n",
              "      <td>386958.0</td>\n",
              "      <td>0.0</td>\n",
              "      <td>0.0</td>\n",
              "    </tr>\n",
              "    <tr>\n",
              "      <th>4</th>\n",
              "      <td>d4062e70-befa-4995-8643-a0de73938182</td>\n",
              "      <td>81536ad9-5ccf-4eb8-befb-47a4d608658e</td>\n",
              "      <td>Fully Paid</td>\n",
              "      <td>176220.0</td>\n",
              "      <td>Short Term</td>\n",
              "      <td>NaN</td>\n",
              "      <td>NaN</td>\n",
              "      <td>5 years</td>\n",
              "      <td>Rent</td>\n",
              "      <td>Debt Consolidation</td>\n",
              "      <td>20639.70</td>\n",
              "      <td>6.1</td>\n",
              "      <td>NaN</td>\n",
              "      <td>15.0</td>\n",
              "      <td>0.0</td>\n",
              "      <td>253460.0</td>\n",
              "      <td>427174.0</td>\n",
              "      <td>0.0</td>\n",
              "      <td>0.0</td>\n",
              "    </tr>\n",
              "  </tbody>\n",
              "</table>\n",
              "</div>"
            ],
            "text/plain": [
              "                                Loan ID                           Customer ID  \\\n",
              "0  14dd8831-6af5-400b-83ec-68e61888a048  981165ec-3274-42f5-a3b4-d104041a9ca9   \n",
              "1  4771cc26-131a-45db-b5aa-537ea4ba5342  2de017a3-2e01-49cb-a581-08169e83be29   \n",
              "2  4eed4e6a-aa2f-4c91-8651-ce984ee8fb26  5efb2b2b-bf11-4dfd-a572-3761a2694725   \n",
              "3  77598f7b-32e7-4e3b-a6e5-06ba0d98fe8a  e777faab-98ae-45af-9a86-7ce5b33b1011   \n",
              "4  d4062e70-befa-4995-8643-a0de73938182  81536ad9-5ccf-4eb8-befb-47a4d608658e   \n",
              "\n",
              "  Loan Status  Current Loan Amount        Term  Credit Score  Annual Income  \\\n",
              "0  Fully Paid             445412.0  Short Term         709.0      1167493.0   \n",
              "1  Fully Paid             262328.0  Short Term           NaN            NaN   \n",
              "2  Fully Paid           99999999.0  Short Term         741.0      2231892.0   \n",
              "3  Fully Paid             347666.0   Long Term         721.0       806949.0   \n",
              "4  Fully Paid             176220.0  Short Term           NaN            NaN   \n",
              "\n",
              "  Years in current job Home Ownership             Purpose  Monthly Debt  \\\n",
              "0              8 years  Home Mortgage   Home Improvements       5214.74   \n",
              "1            10+ years  Home Mortgage  Debt Consolidation      33295.98   \n",
              "2              8 years       Own Home  Debt Consolidation      29200.53   \n",
              "3              3 years       Own Home  Debt Consolidation       8741.90   \n",
              "4              5 years           Rent  Debt Consolidation      20639.70   \n",
              "\n",
              "   Years of Credit History  Months since last delinquent  \\\n",
              "0                     17.2                           NaN   \n",
              "1                     21.1                           8.0   \n",
              "2                     14.9                          29.0   \n",
              "3                     12.0                           NaN   \n",
              "4                      6.1                           NaN   \n",
              "\n",
              "   Number of Open Accounts  Number of Credit Problems  Current Credit Balance  \\\n",
              "0                      6.0                        1.0                228190.0   \n",
              "1                     35.0                        0.0                229976.0   \n",
              "2                     18.0                        1.0                297996.0   \n",
              "3                      9.0                        0.0                256329.0   \n",
              "4                     15.0                        0.0                253460.0   \n",
              "\n",
              "   Maximum Open Credit  Bankruptcies  Tax Liens  \n",
              "0             416746.0           1.0        0.0  \n",
              "1             850784.0           0.0        0.0  \n",
              "2             750090.0           0.0        0.0  \n",
              "3             386958.0           0.0        0.0  \n",
              "4             427174.0           0.0        0.0  "
            ]
          },
          "metadata": {
            "tags": []
          },
          "execution_count": 104
        }
      ]
    },
    {
      "cell_type": "code",
      "metadata": {
        "colab": {
          "base_uri": "https://localhost:8080/",
          "height": 425
        },
        "id": "vfsU_uAICTbZ",
        "outputId": "21ee6ae8-fa6a-438c-ad7a-ee6c316a680e"
      },
      "source": [
        "test.head()"
      ],
      "execution_count": null,
      "outputs": [
        {
          "output_type": "execute_result",
          "data": {
            "text/html": [
              "<div>\n",
              "<style scoped>\n",
              "    .dataframe tbody tr th:only-of-type {\n",
              "        vertical-align: middle;\n",
              "    }\n",
              "\n",
              "    .dataframe tbody tr th {\n",
              "        vertical-align: top;\n",
              "    }\n",
              "\n",
              "    .dataframe thead th {\n",
              "        text-align: right;\n",
              "    }\n",
              "</style>\n",
              "<table border=\"1\" class=\"dataframe\">\n",
              "  <thead>\n",
              "    <tr style=\"text-align: right;\">\n",
              "      <th></th>\n",
              "      <th>Loan ID</th>\n",
              "      <th>Customer ID</th>\n",
              "      <th>Current Loan Amount</th>\n",
              "      <th>Term</th>\n",
              "      <th>Credit Score</th>\n",
              "      <th>Annual Income</th>\n",
              "      <th>Years in current job</th>\n",
              "      <th>Home Ownership</th>\n",
              "      <th>Purpose</th>\n",
              "      <th>Monthly Debt</th>\n",
              "      <th>Years of Credit History</th>\n",
              "      <th>Months since last delinquent</th>\n",
              "      <th>Number of Open Accounts</th>\n",
              "      <th>Number of Credit Problems</th>\n",
              "      <th>Current Credit Balance</th>\n",
              "      <th>Maximum Open Credit</th>\n",
              "      <th>Bankruptcies</th>\n",
              "      <th>Tax Liens</th>\n",
              "    </tr>\n",
              "  </thead>\n",
              "  <tbody>\n",
              "    <tr>\n",
              "      <th>0</th>\n",
              "      <td>f738779f-c726-40dc-92cf-689d73af533d</td>\n",
              "      <td>ded0b3c3-6bf4-4091-8726-47039f2c1b90</td>\n",
              "      <td>611314.0</td>\n",
              "      <td>Short Term</td>\n",
              "      <td>747.0</td>\n",
              "      <td>2074116.0</td>\n",
              "      <td>10+ years</td>\n",
              "      <td>Home Mortgage</td>\n",
              "      <td>Debt Consolidation</td>\n",
              "      <td>42000.83</td>\n",
              "      <td>21.8</td>\n",
              "      <td>NaN</td>\n",
              "      <td>9.0</td>\n",
              "      <td>0.0</td>\n",
              "      <td>621908.0</td>\n",
              "      <td>1058970.0</td>\n",
              "      <td>0.0</td>\n",
              "      <td>0.0</td>\n",
              "    </tr>\n",
              "    <tr>\n",
              "      <th>1</th>\n",
              "      <td>6dcc0947-164d-476c-a1de-3ae7283dde0a</td>\n",
              "      <td>1630e6e3-34e3-461a-8fda-09297d3140c8</td>\n",
              "      <td>266662.0</td>\n",
              "      <td>Short Term</td>\n",
              "      <td>734.0</td>\n",
              "      <td>1919190.0</td>\n",
              "      <td>10+ years</td>\n",
              "      <td>Home Mortgage</td>\n",
              "      <td>Debt Consolidation</td>\n",
              "      <td>36624.40</td>\n",
              "      <td>19.4</td>\n",
              "      <td>NaN</td>\n",
              "      <td>11.0</td>\n",
              "      <td>0.0</td>\n",
              "      <td>679573.0</td>\n",
              "      <td>904442.0</td>\n",
              "      <td>0.0</td>\n",
              "      <td>0.0</td>\n",
              "    </tr>\n",
              "    <tr>\n",
              "      <th>2</th>\n",
              "      <td>f7744d01-894b-49c3-8777-fc6431a2cff1</td>\n",
              "      <td>2c60938b-ad2b-4702-804d-eeca43949c52</td>\n",
              "      <td>153494.0</td>\n",
              "      <td>Short Term</td>\n",
              "      <td>709.0</td>\n",
              "      <td>871112.0</td>\n",
              "      <td>2 years</td>\n",
              "      <td>Rent</td>\n",
              "      <td>Debt Consolidation</td>\n",
              "      <td>8391.73</td>\n",
              "      <td>12.5</td>\n",
              "      <td>10.0</td>\n",
              "      <td>10.0</td>\n",
              "      <td>0.0</td>\n",
              "      <td>38532.0</td>\n",
              "      <td>388036.0</td>\n",
              "      <td>0.0</td>\n",
              "      <td>0.0</td>\n",
              "    </tr>\n",
              "    <tr>\n",
              "      <th>3</th>\n",
              "      <td>83721ffb-b99a-4a0f-aea5-ef472a138b41</td>\n",
              "      <td>12116614-2f3c-4d16-ad34-d92883718806</td>\n",
              "      <td>176242.0</td>\n",
              "      <td>Short Term</td>\n",
              "      <td>727.0</td>\n",
              "      <td>780083.0</td>\n",
              "      <td>10+ years</td>\n",
              "      <td>Rent</td>\n",
              "      <td>Debt Consolidation</td>\n",
              "      <td>16771.87</td>\n",
              "      <td>16.5</td>\n",
              "      <td>27.0</td>\n",
              "      <td>16.0</td>\n",
              "      <td>1.0</td>\n",
              "      <td>156940.0</td>\n",
              "      <td>531322.0</td>\n",
              "      <td>1.0</td>\n",
              "      <td>0.0</td>\n",
              "    </tr>\n",
              "    <tr>\n",
              "      <th>4</th>\n",
              "      <td>08f3789f-5714-4b10-929d-e1527ab5e5a3</td>\n",
              "      <td>39888105-fd5f-4023-860a-30a3e6f5ccb7</td>\n",
              "      <td>321992.0</td>\n",
              "      <td>Short Term</td>\n",
              "      <td>744.0</td>\n",
              "      <td>1761148.0</td>\n",
              "      <td>10+ years</td>\n",
              "      <td>Home Mortgage</td>\n",
              "      <td>Debt Consolidation</td>\n",
              "      <td>39478.77</td>\n",
              "      <td>26.0</td>\n",
              "      <td>44.0</td>\n",
              "      <td>14.0</td>\n",
              "      <td>0.0</td>\n",
              "      <td>359765.0</td>\n",
              "      <td>468072.0</td>\n",
              "      <td>0.0</td>\n",
              "      <td>0.0</td>\n",
              "    </tr>\n",
              "  </tbody>\n",
              "</table>\n",
              "</div>"
            ],
            "text/plain": [
              "                                Loan ID                           Customer ID  \\\n",
              "0  f738779f-c726-40dc-92cf-689d73af533d  ded0b3c3-6bf4-4091-8726-47039f2c1b90   \n",
              "1  6dcc0947-164d-476c-a1de-3ae7283dde0a  1630e6e3-34e3-461a-8fda-09297d3140c8   \n",
              "2  f7744d01-894b-49c3-8777-fc6431a2cff1  2c60938b-ad2b-4702-804d-eeca43949c52   \n",
              "3  83721ffb-b99a-4a0f-aea5-ef472a138b41  12116614-2f3c-4d16-ad34-d92883718806   \n",
              "4  08f3789f-5714-4b10-929d-e1527ab5e5a3  39888105-fd5f-4023-860a-30a3e6f5ccb7   \n",
              "\n",
              "   Current Loan Amount        Term  Credit Score  Annual Income  \\\n",
              "0             611314.0  Short Term         747.0      2074116.0   \n",
              "1             266662.0  Short Term         734.0      1919190.0   \n",
              "2             153494.0  Short Term         709.0       871112.0   \n",
              "3             176242.0  Short Term         727.0       780083.0   \n",
              "4             321992.0  Short Term         744.0      1761148.0   \n",
              "\n",
              "  Years in current job Home Ownership             Purpose  Monthly Debt  \\\n",
              "0            10+ years  Home Mortgage  Debt Consolidation      42000.83   \n",
              "1            10+ years  Home Mortgage  Debt Consolidation      36624.40   \n",
              "2              2 years           Rent  Debt Consolidation       8391.73   \n",
              "3            10+ years           Rent  Debt Consolidation      16771.87   \n",
              "4            10+ years  Home Mortgage  Debt Consolidation      39478.77   \n",
              "\n",
              "   Years of Credit History  Months since last delinquent  \\\n",
              "0                     21.8                           NaN   \n",
              "1                     19.4                           NaN   \n",
              "2                     12.5                          10.0   \n",
              "3                     16.5                          27.0   \n",
              "4                     26.0                          44.0   \n",
              "\n",
              "   Number of Open Accounts  Number of Credit Problems  Current Credit Balance  \\\n",
              "0                      9.0                        0.0                621908.0   \n",
              "1                     11.0                        0.0                679573.0   \n",
              "2                     10.0                        0.0                 38532.0   \n",
              "3                     16.0                        1.0                156940.0   \n",
              "4                     14.0                        0.0                359765.0   \n",
              "\n",
              "   Maximum Open Credit  Bankruptcies  Tax Liens  \n",
              "0            1058970.0           0.0        0.0  \n",
              "1             904442.0           0.0        0.0  \n",
              "2             388036.0           0.0        0.0  \n",
              "3             531322.0           1.0        0.0  \n",
              "4             468072.0           0.0        0.0  "
            ]
          },
          "metadata": {
            "tags": []
          },
          "execution_count": 105
        }
      ]
    },
    {
      "cell_type": "markdown",
      "metadata": {
        "id": "DOoqo0bXCTba"
      },
      "source": [
        "####  Statistical Summary\n",
        "* Now we can take a look at a summary of each attribute. This includes the count, mean, the\n",
        "min and max values as well as some percentiles."
      ]
    },
    {
      "cell_type": "code",
      "metadata": {
        "colab": {
          "base_uri": "https://localhost:8080/",
          "height": 314
        },
        "id": "Pw8EIezKCTbb",
        "outputId": "dff35920-fd0e-41dd-a309-139f21c44405"
      },
      "source": [
        "train.describe()"
      ],
      "execution_count": null,
      "outputs": [
        {
          "output_type": "execute_result",
          "data": {
            "text/html": [
              "<div>\n",
              "<style scoped>\n",
              "    .dataframe tbody tr th:only-of-type {\n",
              "        vertical-align: middle;\n",
              "    }\n",
              "\n",
              "    .dataframe tbody tr th {\n",
              "        vertical-align: top;\n",
              "    }\n",
              "\n",
              "    .dataframe thead th {\n",
              "        text-align: right;\n",
              "    }\n",
              "</style>\n",
              "<table border=\"1\" class=\"dataframe\">\n",
              "  <thead>\n",
              "    <tr style=\"text-align: right;\">\n",
              "      <th></th>\n",
              "      <th>Current Loan Amount</th>\n",
              "      <th>Credit Score</th>\n",
              "      <th>Annual Income</th>\n",
              "      <th>Monthly Debt</th>\n",
              "      <th>Years of Credit History</th>\n",
              "      <th>Months since last delinquent</th>\n",
              "      <th>Number of Open Accounts</th>\n",
              "      <th>Number of Credit Problems</th>\n",
              "      <th>Current Credit Balance</th>\n",
              "      <th>Maximum Open Credit</th>\n",
              "      <th>Bankruptcies</th>\n",
              "      <th>Tax Liens</th>\n",
              "    </tr>\n",
              "  </thead>\n",
              "  <tbody>\n",
              "    <tr>\n",
              "      <th>count</th>\n",
              "      <td>1.000000e+05</td>\n",
              "      <td>80846.000000</td>\n",
              "      <td>8.084600e+04</td>\n",
              "      <td>100000.000000</td>\n",
              "      <td>100000.000000</td>\n",
              "      <td>46859.000000</td>\n",
              "      <td>100000.00000</td>\n",
              "      <td>100000.000000</td>\n",
              "      <td>1.000000e+05</td>\n",
              "      <td>9.999800e+04</td>\n",
              "      <td>99796.000000</td>\n",
              "      <td>99990.000000</td>\n",
              "    </tr>\n",
              "    <tr>\n",
              "      <th>mean</th>\n",
              "      <td>1.176045e+07</td>\n",
              "      <td>1076.456089</td>\n",
              "      <td>1.378277e+06</td>\n",
              "      <td>18472.412336</td>\n",
              "      <td>18.199141</td>\n",
              "      <td>34.901321</td>\n",
              "      <td>11.12853</td>\n",
              "      <td>0.168310</td>\n",
              "      <td>2.946374e+05</td>\n",
              "      <td>7.607984e+05</td>\n",
              "      <td>0.117740</td>\n",
              "      <td>0.029313</td>\n",
              "    </tr>\n",
              "    <tr>\n",
              "      <th>std</th>\n",
              "      <td>3.178394e+07</td>\n",
              "      <td>1475.403791</td>\n",
              "      <td>1.081360e+06</td>\n",
              "      <td>12174.992609</td>\n",
              "      <td>7.015324</td>\n",
              "      <td>21.997829</td>\n",
              "      <td>5.00987</td>\n",
              "      <td>0.482705</td>\n",
              "      <td>3.761709e+05</td>\n",
              "      <td>8.384503e+06</td>\n",
              "      <td>0.351424</td>\n",
              "      <td>0.258182</td>\n",
              "    </tr>\n",
              "    <tr>\n",
              "      <th>min</th>\n",
              "      <td>1.080200e+04</td>\n",
              "      <td>585.000000</td>\n",
              "      <td>7.662700e+04</td>\n",
              "      <td>0.000000</td>\n",
              "      <td>3.600000</td>\n",
              "      <td>0.000000</td>\n",
              "      <td>0.00000</td>\n",
              "      <td>0.000000</td>\n",
              "      <td>0.000000e+00</td>\n",
              "      <td>0.000000e+00</td>\n",
              "      <td>0.000000</td>\n",
              "      <td>0.000000</td>\n",
              "    </tr>\n",
              "    <tr>\n",
              "      <th>25%</th>\n",
              "      <td>1.796520e+05</td>\n",
              "      <td>705.000000</td>\n",
              "      <td>8.488440e+05</td>\n",
              "      <td>10214.162500</td>\n",
              "      <td>13.500000</td>\n",
              "      <td>16.000000</td>\n",
              "      <td>8.00000</td>\n",
              "      <td>0.000000</td>\n",
              "      <td>1.126700e+05</td>\n",
              "      <td>2.734380e+05</td>\n",
              "      <td>0.000000</td>\n",
              "      <td>0.000000</td>\n",
              "    </tr>\n",
              "    <tr>\n",
              "      <th>50%</th>\n",
              "      <td>3.122460e+05</td>\n",
              "      <td>724.000000</td>\n",
              "      <td>1.174162e+06</td>\n",
              "      <td>16220.300000</td>\n",
              "      <td>16.900000</td>\n",
              "      <td>32.000000</td>\n",
              "      <td>10.00000</td>\n",
              "      <td>0.000000</td>\n",
              "      <td>2.098170e+05</td>\n",
              "      <td>4.678740e+05</td>\n",
              "      <td>0.000000</td>\n",
              "      <td>0.000000</td>\n",
              "    </tr>\n",
              "    <tr>\n",
              "      <th>75%</th>\n",
              "      <td>5.249420e+05</td>\n",
              "      <td>741.000000</td>\n",
              "      <td>1.650663e+06</td>\n",
              "      <td>24012.057500</td>\n",
              "      <td>21.700000</td>\n",
              "      <td>51.000000</td>\n",
              "      <td>14.00000</td>\n",
              "      <td>0.000000</td>\n",
              "      <td>3.679588e+05</td>\n",
              "      <td>7.829580e+05</td>\n",
              "      <td>0.000000</td>\n",
              "      <td>0.000000</td>\n",
              "    </tr>\n",
              "    <tr>\n",
              "      <th>max</th>\n",
              "      <td>1.000000e+08</td>\n",
              "      <td>7510.000000</td>\n",
              "      <td>1.655574e+08</td>\n",
              "      <td>435843.280000</td>\n",
              "      <td>70.500000</td>\n",
              "      <td>176.000000</td>\n",
              "      <td>76.00000</td>\n",
              "      <td>15.000000</td>\n",
              "      <td>3.287897e+07</td>\n",
              "      <td>1.539738e+09</td>\n",
              "      <td>7.000000</td>\n",
              "      <td>15.000000</td>\n",
              "    </tr>\n",
              "  </tbody>\n",
              "</table>\n",
              "</div>"
            ],
            "text/plain": [
              "       Current Loan Amount  Credit Score  Annual Income   Monthly Debt  \\\n",
              "count         1.000000e+05  80846.000000   8.084600e+04  100000.000000   \n",
              "mean          1.176045e+07   1076.456089   1.378277e+06   18472.412336   \n",
              "std           3.178394e+07   1475.403791   1.081360e+06   12174.992609   \n",
              "min           1.080200e+04    585.000000   7.662700e+04       0.000000   \n",
              "25%           1.796520e+05    705.000000   8.488440e+05   10214.162500   \n",
              "50%           3.122460e+05    724.000000   1.174162e+06   16220.300000   \n",
              "75%           5.249420e+05    741.000000   1.650663e+06   24012.057500   \n",
              "max           1.000000e+08   7510.000000   1.655574e+08  435843.280000   \n",
              "\n",
              "       Years of Credit History  Months since last delinquent  \\\n",
              "count            100000.000000                  46859.000000   \n",
              "mean                 18.199141                     34.901321   \n",
              "std                   7.015324                     21.997829   \n",
              "min                   3.600000                      0.000000   \n",
              "25%                  13.500000                     16.000000   \n",
              "50%                  16.900000                     32.000000   \n",
              "75%                  21.700000                     51.000000   \n",
              "max                  70.500000                    176.000000   \n",
              "\n",
              "       Number of Open Accounts  Number of Credit Problems  \\\n",
              "count             100000.00000              100000.000000   \n",
              "mean                  11.12853                   0.168310   \n",
              "std                    5.00987                   0.482705   \n",
              "min                    0.00000                   0.000000   \n",
              "25%                    8.00000                   0.000000   \n",
              "50%                   10.00000                   0.000000   \n",
              "75%                   14.00000                   0.000000   \n",
              "max                   76.00000                  15.000000   \n",
              "\n",
              "       Current Credit Balance  Maximum Open Credit  Bankruptcies     Tax Liens  \n",
              "count            1.000000e+05         9.999800e+04  99796.000000  99990.000000  \n",
              "mean             2.946374e+05         7.607984e+05      0.117740      0.029313  \n",
              "std              3.761709e+05         8.384503e+06      0.351424      0.258182  \n",
              "min              0.000000e+00         0.000000e+00      0.000000      0.000000  \n",
              "25%              1.126700e+05         2.734380e+05      0.000000      0.000000  \n",
              "50%              2.098170e+05         4.678740e+05      0.000000      0.000000  \n",
              "75%              3.679588e+05         7.829580e+05      0.000000      0.000000  \n",
              "max              3.287897e+07         1.539738e+09      7.000000     15.000000  "
            ]
          },
          "metadata": {
            "tags": []
          },
          "execution_count": 106
        }
      ]
    },
    {
      "cell_type": "code",
      "metadata": {
        "colab": {
          "base_uri": "https://localhost:8080/",
          "height": 314
        },
        "id": "ZeQyG0y9CTbc",
        "outputId": "5b7ac072-8116-4378-ae12-701172476aeb"
      },
      "source": [
        "test.describe()"
      ],
      "execution_count": null,
      "outputs": [
        {
          "output_type": "execute_result",
          "data": {
            "text/html": [
              "<div>\n",
              "<style scoped>\n",
              "    .dataframe tbody tr th:only-of-type {\n",
              "        vertical-align: middle;\n",
              "    }\n",
              "\n",
              "    .dataframe tbody tr th {\n",
              "        vertical-align: top;\n",
              "    }\n",
              "\n",
              "    .dataframe thead th {\n",
              "        text-align: right;\n",
              "    }\n",
              "</style>\n",
              "<table border=\"1\" class=\"dataframe\">\n",
              "  <thead>\n",
              "    <tr style=\"text-align: right;\">\n",
              "      <th></th>\n",
              "      <th>Current Loan Amount</th>\n",
              "      <th>Credit Score</th>\n",
              "      <th>Annual Income</th>\n",
              "      <th>Monthly Debt</th>\n",
              "      <th>Years of Credit History</th>\n",
              "      <th>Months since last delinquent</th>\n",
              "      <th>Number of Open Accounts</th>\n",
              "      <th>Number of Credit Problems</th>\n",
              "      <th>Current Credit Balance</th>\n",
              "      <th>Maximum Open Credit</th>\n",
              "      <th>Bankruptcies</th>\n",
              "      <th>Tax Liens</th>\n",
              "    </tr>\n",
              "  </thead>\n",
              "  <tbody>\n",
              "    <tr>\n",
              "      <th>count</th>\n",
              "      <td>1.000000e+04</td>\n",
              "      <td>8019.000000</td>\n",
              "      <td>8.019000e+03</td>\n",
              "      <td>10000.000000</td>\n",
              "      <td>10000.000000</td>\n",
              "      <td>4694.000000</td>\n",
              "      <td>10000.00000</td>\n",
              "      <td>10000.000000</td>\n",
              "      <td>1.000000e+04</td>\n",
              "      <td>1.000000e+04</td>\n",
              "      <td>9978.000000</td>\n",
              "      <td>9999.000000</td>\n",
              "    </tr>\n",
              "    <tr>\n",
              "      <th>mean</th>\n",
              "      <td>1.160380e+07</td>\n",
              "      <td>1077.991520</td>\n",
              "      <td>1.369106e+06</td>\n",
              "      <td>18429.671699</td>\n",
              "      <td>18.235930</td>\n",
              "      <td>34.964636</td>\n",
              "      <td>11.08410</td>\n",
              "      <td>0.165500</td>\n",
              "      <td>2.907301e+05</td>\n",
              "      <td>6.871308e+05</td>\n",
              "      <td>0.116356</td>\n",
              "      <td>0.030803</td>\n",
              "    </tr>\n",
              "    <tr>\n",
              "      <th>std</th>\n",
              "      <td>3.160010e+07</td>\n",
              "      <td>1477.467761</td>\n",
              "      <td>8.687557e+05</td>\n",
              "      <td>12399.956192</td>\n",
              "      <td>7.018356</td>\n",
              "      <td>21.640291</td>\n",
              "      <td>5.02338</td>\n",
              "      <td>0.500934</td>\n",
              "      <td>3.881687e+05</td>\n",
              "      <td>1.861394e+06</td>\n",
              "      <td>0.349961</td>\n",
              "      <td>0.288215</td>\n",
              "    </tr>\n",
              "    <tr>\n",
              "      <th>min</th>\n",
              "      <td>1.947000e+04</td>\n",
              "      <td>585.000000</td>\n",
              "      <td>8.109200e+04</td>\n",
              "      <td>0.000000</td>\n",
              "      <td>3.800000</td>\n",
              "      <td>0.000000</td>\n",
              "      <td>1.00000</td>\n",
              "      <td>0.000000</td>\n",
              "      <td>0.000000e+00</td>\n",
              "      <td>0.000000e+00</td>\n",
              "      <td>0.000000</td>\n",
              "      <td>0.000000</td>\n",
              "    </tr>\n",
              "    <tr>\n",
              "      <th>25%</th>\n",
              "      <td>1.789480e+05</td>\n",
              "      <td>706.000000</td>\n",
              "      <td>8.483405e+05</td>\n",
              "      <td>10202.857500</td>\n",
              "      <td>13.600000</td>\n",
              "      <td>17.000000</td>\n",
              "      <td>7.00000</td>\n",
              "      <td>0.000000</td>\n",
              "      <td>1.086515e+05</td>\n",
              "      <td>2.706000e+05</td>\n",
              "      <td>0.000000</td>\n",
              "      <td>0.000000</td>\n",
              "    </tr>\n",
              "    <tr>\n",
              "      <th>50%</th>\n",
              "      <td>3.092760e+05</td>\n",
              "      <td>725.000000</td>\n",
              "      <td>1.168272e+06</td>\n",
              "      <td>16052.055000</td>\n",
              "      <td>17.000000</td>\n",
              "      <td>32.000000</td>\n",
              "      <td>10.00000</td>\n",
              "      <td>0.000000</td>\n",
              "      <td>2.075180e+05</td>\n",
              "      <td>4.626050e+05</td>\n",
              "      <td>0.000000</td>\n",
              "      <td>0.000000</td>\n",
              "    </tr>\n",
              "    <tr>\n",
              "      <th>75%</th>\n",
              "      <td>5.157075e+05</td>\n",
              "      <td>741.000000</td>\n",
              "      <td>1.664390e+06</td>\n",
              "      <td>23881.337500</td>\n",
              "      <td>21.700000</td>\n",
              "      <td>50.000000</td>\n",
              "      <td>14.00000</td>\n",
              "      <td>0.000000</td>\n",
              "      <td>3.624630e+05</td>\n",
              "      <td>7.861150e+05</td>\n",
              "      <td>0.000000</td>\n",
              "      <td>0.000000</td>\n",
              "    </tr>\n",
              "    <tr>\n",
              "      <th>max</th>\n",
              "      <td>1.000000e+08</td>\n",
              "      <td>7510.000000</td>\n",
              "      <td>1.781535e+07</td>\n",
              "      <td>229057.920000</td>\n",
              "      <td>62.500000</td>\n",
              "      <td>131.000000</td>\n",
              "      <td>55.00000</td>\n",
              "      <td>10.000000</td>\n",
              "      <td>1.623744e+07</td>\n",
              "      <td>1.459073e+08</td>\n",
              "      <td>5.000000</td>\n",
              "      <td>9.000000</td>\n",
              "    </tr>\n",
              "  </tbody>\n",
              "</table>\n",
              "</div>"
            ],
            "text/plain": [
              "       Current Loan Amount  Credit Score  Annual Income   Monthly Debt  \\\n",
              "count         1.000000e+04   8019.000000   8.019000e+03   10000.000000   \n",
              "mean          1.160380e+07   1077.991520   1.369106e+06   18429.671699   \n",
              "std           3.160010e+07   1477.467761   8.687557e+05   12399.956192   \n",
              "min           1.947000e+04    585.000000   8.109200e+04       0.000000   \n",
              "25%           1.789480e+05    706.000000   8.483405e+05   10202.857500   \n",
              "50%           3.092760e+05    725.000000   1.168272e+06   16052.055000   \n",
              "75%           5.157075e+05    741.000000   1.664390e+06   23881.337500   \n",
              "max           1.000000e+08   7510.000000   1.781535e+07  229057.920000   \n",
              "\n",
              "       Years of Credit History  Months since last delinquent  \\\n",
              "count             10000.000000                   4694.000000   \n",
              "mean                 18.235930                     34.964636   \n",
              "std                   7.018356                     21.640291   \n",
              "min                   3.800000                      0.000000   \n",
              "25%                  13.600000                     17.000000   \n",
              "50%                  17.000000                     32.000000   \n",
              "75%                  21.700000                     50.000000   \n",
              "max                  62.500000                    131.000000   \n",
              "\n",
              "       Number of Open Accounts  Number of Credit Problems  \\\n",
              "count              10000.00000               10000.000000   \n",
              "mean                  11.08410                   0.165500   \n",
              "std                    5.02338                   0.500934   \n",
              "min                    1.00000                   0.000000   \n",
              "25%                    7.00000                   0.000000   \n",
              "50%                   10.00000                   0.000000   \n",
              "75%                   14.00000                   0.000000   \n",
              "max                   55.00000                  10.000000   \n",
              "\n",
              "       Current Credit Balance  Maximum Open Credit  Bankruptcies    Tax Liens  \n",
              "count            1.000000e+04         1.000000e+04   9978.000000  9999.000000  \n",
              "mean             2.907301e+05         6.871308e+05      0.116356     0.030803  \n",
              "std              3.881687e+05         1.861394e+06      0.349961     0.288215  \n",
              "min              0.000000e+00         0.000000e+00      0.000000     0.000000  \n",
              "25%              1.086515e+05         2.706000e+05      0.000000     0.000000  \n",
              "50%              2.075180e+05         4.626050e+05      0.000000     0.000000  \n",
              "75%              3.624630e+05         7.861150e+05      0.000000     0.000000  \n",
              "max              1.623744e+07         1.459073e+08      5.000000     9.000000  "
            ]
          },
          "metadata": {
            "tags": []
          },
          "execution_count": 107
        }
      ]
    },
    {
      "cell_type": "code",
      "metadata": {
        "colab": {
          "base_uri": "https://localhost:8080/",
          "height": 173
        },
        "id": "rT7tSLrRCTbc",
        "outputId": "0e8e1db4-8998-4b65-f812-15f37e6dfc97"
      },
      "source": [
        "train.describe(include='object')"
      ],
      "execution_count": null,
      "outputs": [
        {
          "output_type": "execute_result",
          "data": {
            "text/html": [
              "<div>\n",
              "<style scoped>\n",
              "    .dataframe tbody tr th:only-of-type {\n",
              "        vertical-align: middle;\n",
              "    }\n",
              "\n",
              "    .dataframe tbody tr th {\n",
              "        vertical-align: top;\n",
              "    }\n",
              "\n",
              "    .dataframe thead th {\n",
              "        text-align: right;\n",
              "    }\n",
              "</style>\n",
              "<table border=\"1\" class=\"dataframe\">\n",
              "  <thead>\n",
              "    <tr style=\"text-align: right;\">\n",
              "      <th></th>\n",
              "      <th>Loan ID</th>\n",
              "      <th>Customer ID</th>\n",
              "      <th>Loan Status</th>\n",
              "      <th>Term</th>\n",
              "      <th>Years in current job</th>\n",
              "      <th>Home Ownership</th>\n",
              "      <th>Purpose</th>\n",
              "    </tr>\n",
              "  </thead>\n",
              "  <tbody>\n",
              "    <tr>\n",
              "      <th>count</th>\n",
              "      <td>100000</td>\n",
              "      <td>100000</td>\n",
              "      <td>100000</td>\n",
              "      <td>100000</td>\n",
              "      <td>95778</td>\n",
              "      <td>100000</td>\n",
              "      <td>100000</td>\n",
              "    </tr>\n",
              "    <tr>\n",
              "      <th>unique</th>\n",
              "      <td>81999</td>\n",
              "      <td>81999</td>\n",
              "      <td>2</td>\n",
              "      <td>2</td>\n",
              "      <td>11</td>\n",
              "      <td>4</td>\n",
              "      <td>16</td>\n",
              "    </tr>\n",
              "    <tr>\n",
              "      <th>top</th>\n",
              "      <td>996809f8-c806-469e-bf5b-dd17322bcb3f</td>\n",
              "      <td>316ee3c1-649c-4f9e-b148-ef438db94eb4</td>\n",
              "      <td>Fully Paid</td>\n",
              "      <td>Short Term</td>\n",
              "      <td>10+ years</td>\n",
              "      <td>Home Mortgage</td>\n",
              "      <td>Debt Consolidation</td>\n",
              "    </tr>\n",
              "    <tr>\n",
              "      <th>freq</th>\n",
              "      <td>2</td>\n",
              "      <td>2</td>\n",
              "      <td>77361</td>\n",
              "      <td>72208</td>\n",
              "      <td>31121</td>\n",
              "      <td>48410</td>\n",
              "      <td>78552</td>\n",
              "    </tr>\n",
              "  </tbody>\n",
              "</table>\n",
              "</div>"
            ],
            "text/plain": [
              "                                     Loan ID  \\\n",
              "count                                 100000   \n",
              "unique                                 81999   \n",
              "top     996809f8-c806-469e-bf5b-dd17322bcb3f   \n",
              "freq                                       2   \n",
              "\n",
              "                                 Customer ID Loan Status        Term  \\\n",
              "count                                 100000      100000      100000   \n",
              "unique                                 81999           2           2   \n",
              "top     316ee3c1-649c-4f9e-b148-ef438db94eb4  Fully Paid  Short Term   \n",
              "freq                                       2       77361       72208   \n",
              "\n",
              "       Years in current job Home Ownership             Purpose  \n",
              "count                 95778         100000              100000  \n",
              "unique                   11              4                  16  \n",
              "top               10+ years  Home Mortgage  Debt Consolidation  \n",
              "freq                  31121          48410               78552  "
            ]
          },
          "metadata": {
            "tags": []
          },
          "execution_count": 108
        }
      ]
    },
    {
      "cell_type": "code",
      "metadata": {
        "colab": {
          "base_uri": "https://localhost:8080/",
          "height": 173
        },
        "id": "ZEFjH5SNCTbd",
        "outputId": "831012c5-5243-46dc-ac60-abf17108b8d9"
      },
      "source": [
        "test.describe(include='object')"
      ],
      "execution_count": null,
      "outputs": [
        {
          "output_type": "execute_result",
          "data": {
            "text/html": [
              "<div>\n",
              "<style scoped>\n",
              "    .dataframe tbody tr th:only-of-type {\n",
              "        vertical-align: middle;\n",
              "    }\n",
              "\n",
              "    .dataframe tbody tr th {\n",
              "        vertical-align: top;\n",
              "    }\n",
              "\n",
              "    .dataframe thead th {\n",
              "        text-align: right;\n",
              "    }\n",
              "</style>\n",
              "<table border=\"1\" class=\"dataframe\">\n",
              "  <thead>\n",
              "    <tr style=\"text-align: right;\">\n",
              "      <th></th>\n",
              "      <th>Loan ID</th>\n",
              "      <th>Customer ID</th>\n",
              "      <th>Term</th>\n",
              "      <th>Years in current job</th>\n",
              "      <th>Home Ownership</th>\n",
              "      <th>Purpose</th>\n",
              "    </tr>\n",
              "  </thead>\n",
              "  <tbody>\n",
              "    <tr>\n",
              "      <th>count</th>\n",
              "      <td>10000</td>\n",
              "      <td>10000</td>\n",
              "      <td>10000</td>\n",
              "      <td>9573</td>\n",
              "      <td>10000</td>\n",
              "      <td>10000</td>\n",
              "    </tr>\n",
              "    <tr>\n",
              "      <th>unique</th>\n",
              "      <td>10000</td>\n",
              "      <td>10000</td>\n",
              "      <td>2</td>\n",
              "      <td>11</td>\n",
              "      <td>4</td>\n",
              "      <td>16</td>\n",
              "    </tr>\n",
              "    <tr>\n",
              "      <th>top</th>\n",
              "      <td>133648a7-84dd-4572-b6dd-5479a4198d55</td>\n",
              "      <td>17189b11-de8f-438a-bf89-a53a25385741</td>\n",
              "      <td>Short Term</td>\n",
              "      <td>10+ years</td>\n",
              "      <td>Home Mortgage</td>\n",
              "      <td>Debt Consolidation</td>\n",
              "    </tr>\n",
              "    <tr>\n",
              "      <th>freq</th>\n",
              "      <td>1</td>\n",
              "      <td>1</td>\n",
              "      <td>7295</td>\n",
              "      <td>3085</td>\n",
              "      <td>4867</td>\n",
              "      <td>7878</td>\n",
              "    </tr>\n",
              "  </tbody>\n",
              "</table>\n",
              "</div>"
            ],
            "text/plain": [
              "                                     Loan ID  \\\n",
              "count                                  10000   \n",
              "unique                                 10000   \n",
              "top     133648a7-84dd-4572-b6dd-5479a4198d55   \n",
              "freq                                       1   \n",
              "\n",
              "                                 Customer ID        Term Years in current job  \\\n",
              "count                                  10000       10000                 9573   \n",
              "unique                                 10000           2                   11   \n",
              "top     17189b11-de8f-438a-bf89-a53a25385741  Short Term            10+ years   \n",
              "freq                                       1        7295                 3085   \n",
              "\n",
              "       Home Ownership             Purpose  \n",
              "count           10000               10000  \n",
              "unique              4                  16  \n",
              "top     Home Mortgage  Debt Consolidation  \n",
              "freq             4867                7878  "
            ]
          },
          "metadata": {
            "tags": []
          },
          "execution_count": 109
        }
      ]
    },
    {
      "cell_type": "markdown",
      "metadata": {
        "id": "Bes1GDBeEi7p"
      },
      "source": [
        "From the above descriptive statistical analysis we can observed the high occurance of values in various columns such as Loan Status, Term, Years in current job, Home Ownership and Purpose. This will be used in filling missing values for the respective columns."
      ]
    },
    {
      "cell_type": "markdown",
      "metadata": {
        "id": "uOpwv7iICTbe"
      },
      "source": [
        "#### Class Distribution\n",
        "* Let's now take a look at the number of instances (rows) that belong to each class. We can view\n",
        "this as an absolute count."
      ]
    },
    {
      "cell_type": "code",
      "metadata": {
        "colab": {
          "base_uri": "https://localhost:8080/"
        },
        "id": "EN2YefWHCTbf",
        "outputId": "7fcc93e8-ca42-4569-d6ce-389e97458365"
      },
      "source": [
        "#class distribution\n",
        "train.groupby('Loan Status').size()"
      ],
      "execution_count": null,
      "outputs": [
        {
          "output_type": "execute_result",
          "data": {
            "text/plain": [
              "Loan Status\n",
              "Charged Off    22639\n",
              "Fully Paid     77361\n",
              "dtype: int64"
            ]
          },
          "metadata": {
            "tags": []
          },
          "execution_count": 110
        }
      ]
    },
    {
      "cell_type": "markdown",
      "metadata": {
        "id": "nY7BOkOACTbh"
      },
      "source": [
        "### Data Visualization\n",
        "* Data Info\n",
        "* checking for missing values\n",
        "* Univariate analysis "
      ]
    },
    {
      "cell_type": "code",
      "metadata": {
        "colab": {
          "base_uri": "https://localhost:8080/"
        },
        "id": "MN5aXHlQCTbh",
        "outputId": "684c8e76-cfd9-48ef-ea66-4981a71f2878"
      },
      "source": [
        "train.info()"
      ],
      "execution_count": null,
      "outputs": [
        {
          "output_type": "stream",
          "text": [
            "<class 'pandas.core.frame.DataFrame'>\n",
            "RangeIndex: 100514 entries, 0 to 100513\n",
            "Data columns (total 19 columns):\n",
            " #   Column                        Non-Null Count   Dtype  \n",
            "---  ------                        --------------   -----  \n",
            " 0   Loan ID                       100000 non-null  object \n",
            " 1   Customer ID                   100000 non-null  object \n",
            " 2   Loan Status                   100000 non-null  object \n",
            " 3   Current Loan Amount           100000 non-null  float64\n",
            " 4   Term                          100000 non-null  object \n",
            " 5   Credit Score                  80846 non-null   float64\n",
            " 6   Annual Income                 80846 non-null   float64\n",
            " 7   Years in current job          95778 non-null   object \n",
            " 8   Home Ownership                100000 non-null  object \n",
            " 9   Purpose                       100000 non-null  object \n",
            " 10  Monthly Debt                  100000 non-null  float64\n",
            " 11  Years of Credit History       100000 non-null  float64\n",
            " 12  Months since last delinquent  46859 non-null   float64\n",
            " 13  Number of Open Accounts       100000 non-null  float64\n",
            " 14  Number of Credit Problems     100000 non-null  float64\n",
            " 15  Current Credit Balance        100000 non-null  float64\n",
            " 16  Maximum Open Credit           99998 non-null   float64\n",
            " 17  Bankruptcies                  99796 non-null   float64\n",
            " 18  Tax Liens                     99990 non-null   float64\n",
            "dtypes: float64(12), object(7)\n",
            "memory usage: 14.6+ MB\n"
          ],
          "name": "stdout"
        }
      ]
    },
    {
      "cell_type": "code",
      "metadata": {
        "colab": {
          "base_uri": "https://localhost:8080/"
        },
        "id": "19kTQr2hCTbi",
        "outputId": "ea25e6d6-a6b1-4633-a49b-437f28df5f8e"
      },
      "source": [
        "test.info()"
      ],
      "execution_count": null,
      "outputs": [
        {
          "output_type": "stream",
          "text": [
            "<class 'pandas.core.frame.DataFrame'>\n",
            "RangeIndex: 10353 entries, 0 to 10352\n",
            "Data columns (total 18 columns):\n",
            " #   Column                        Non-Null Count  Dtype  \n",
            "---  ------                        --------------  -----  \n",
            " 0   Loan ID                       10000 non-null  object \n",
            " 1   Customer ID                   10000 non-null  object \n",
            " 2   Current Loan Amount           10000 non-null  float64\n",
            " 3   Term                          10000 non-null  object \n",
            " 4   Credit Score                  8019 non-null   float64\n",
            " 5   Annual Income                 8019 non-null   float64\n",
            " 6   Years in current job          9573 non-null   object \n",
            " 7   Home Ownership                10000 non-null  object \n",
            " 8   Purpose                       10000 non-null  object \n",
            " 9   Monthly Debt                  10000 non-null  float64\n",
            " 10  Years of Credit History       10000 non-null  float64\n",
            " 11  Months since last delinquent  4694 non-null   float64\n",
            " 12  Number of Open Accounts       10000 non-null  float64\n",
            " 13  Number of Credit Problems     10000 non-null  float64\n",
            " 14  Current Credit Balance        10000 non-null  float64\n",
            " 15  Maximum Open Credit           10000 non-null  float64\n",
            " 16  Bankruptcies                  9978 non-null   float64\n",
            " 17  Tax Liens                     9999 non-null   float64\n",
            "dtypes: float64(12), object(6)\n",
            "memory usage: 1.4+ MB\n"
          ],
          "name": "stdout"
        }
      ]
    },
    {
      "cell_type": "code",
      "metadata": {
        "colab": {
          "base_uri": "https://localhost:8080/"
        },
        "id": "k0QjFqNaCTbj",
        "outputId": "d6b57f44-facf-4cd6-fd65-46da9cf5e1da"
      },
      "source": [
        "#checking for missing values\n",
        "train.isna().mean()*100"
      ],
      "execution_count": null,
      "outputs": [
        {
          "output_type": "execute_result",
          "data": {
            "text/plain": [
              "Loan ID                          0.511372\n",
              "Customer ID                      0.511372\n",
              "Loan Status                      0.511372\n",
              "Current Loan Amount              0.511372\n",
              "Term                             0.511372\n",
              "Credit Score                    19.567423\n",
              "Annual Income                   19.567423\n",
              "Years in current job             4.711781\n",
              "Home Ownership                   0.511372\n",
              "Purpose                          0.511372\n",
              "Monthly Debt                     0.511372\n",
              "Years of Credit History          0.511372\n",
              "Months since last delinquent    53.380624\n",
              "Number of Open Accounts          0.511372\n",
              "Number of Credit Problems        0.511372\n",
              "Current Credit Balance           0.511372\n",
              "Maximum Open Credit              0.513361\n",
              "Bankruptcies                     0.714328\n",
              "Tax Liens                        0.521320\n",
              "dtype: float64"
            ]
          },
          "metadata": {
            "tags": []
          },
          "execution_count": 113
        }
      ]
    },
    {
      "cell_type": "code",
      "metadata": {
        "colab": {
          "base_uri": "https://localhost:8080/"
        },
        "id": "_eOeF0erCTbj",
        "outputId": "ab4feb7c-89ca-4c25-c7cf-5f0c1ced9856"
      },
      "source": [
        "train.isna().mean()*100"
      ],
      "execution_count": null,
      "outputs": [
        {
          "output_type": "execute_result",
          "data": {
            "text/plain": [
              "Loan ID                          0.511372\n",
              "Customer ID                      0.511372\n",
              "Loan Status                      0.511372\n",
              "Current Loan Amount              0.511372\n",
              "Term                             0.511372\n",
              "Credit Score                    19.567423\n",
              "Annual Income                   19.567423\n",
              "Years in current job             4.711781\n",
              "Home Ownership                   0.511372\n",
              "Purpose                          0.511372\n",
              "Monthly Debt                     0.511372\n",
              "Years of Credit History          0.511372\n",
              "Months since last delinquent    53.380624\n",
              "Number of Open Accounts          0.511372\n",
              "Number of Credit Problems        0.511372\n",
              "Current Credit Balance           0.511372\n",
              "Maximum Open Credit              0.513361\n",
              "Bankruptcies                     0.714328\n",
              "Tax Liens                        0.521320\n",
              "dtype: float64"
            ]
          },
          "metadata": {
            "tags": []
          },
          "execution_count": 114
        }
      ]
    },
    {
      "cell_type": "markdown",
      "metadata": {
        "id": "r5O-LZITCTbk"
      },
      "source": [
        "#### Univariate Analysis"
      ]
    },
    {
      "cell_type": "code",
      "metadata": {
        "id": "tr3aO12YCTbk"
      },
      "source": [
        "#function returns histogram, #box-plot, 5-point statistics\n",
        "def analyze_feature(df, feature, rotation=0):\n",
        "   \n",
        "    fig, ax = pyplot.subplots(figsize=(10,4), ncols=2, nrows=1)\n",
        "    sns.distplot(df[feature], kde=False, rug=True, ax=ax[0])\n",
        "    sns.boxplot(feature, orient='h', data=df, ax=ax[1])\n",
        "   \n",
        "    for ax in ax:\n",
        "        for tick in ax.get_xticklabels():\n",
        "            tick.set_rotation(rotation)\n",
        "            \n",
        "    return df[feature].describe().to_frame().T"
      ],
      "execution_count": null,
      "outputs": []
    },
    {
      "cell_type": "markdown",
      "metadata": {
        "id": "tmgFQ3U2CTbl"
      },
      "source": [
        "#### Years of credit history"
      ]
    },
    {
      "cell_type": "code",
      "metadata": {
        "colab": {
          "base_uri": "https://localhost:8080/",
          "height": 464
        },
        "id": "T3_IbBGeCTbl",
        "outputId": "69bc83e1-33d5-4e4d-a49c-2ac9f20d72dd"
      },
      "source": [
        "analyze_feature(train, 'Years of Credit History')"
      ],
      "execution_count": null,
      "outputs": [
        {
          "output_type": "stream",
          "text": [
            "/usr/local/lib/python3.6/dist-packages/seaborn/distributions.py:2551: FutureWarning: `distplot` is a deprecated function and will be removed in a future version. Please adapt your code to use either `displot` (a figure-level function with similar flexibility) or `histplot` (an axes-level function for histograms).\n",
            "  warnings.warn(msg, FutureWarning)\n",
            "/usr/local/lib/python3.6/dist-packages/seaborn/distributions.py:2055: FutureWarning: The `axis` variable is no longer used and will be removed. Instead, assign variables directly to `x` or `y`.\n",
            "  warnings.warn(msg, FutureWarning)\n",
            "/usr/local/lib/python3.6/dist-packages/seaborn/_decorators.py:43: FutureWarning: Pass the following variable as a keyword arg: x. From version 0.12, the only valid positional argument will be `data`, and passing other arguments without an explicit keyword will result in an error or misinterpretation.\n",
            "  FutureWarning\n"
          ],
          "name": "stderr"
        },
        {
          "output_type": "execute_result",
          "data": {
            "text/html": [
              "<div>\n",
              "<style scoped>\n",
              "    .dataframe tbody tr th:only-of-type {\n",
              "        vertical-align: middle;\n",
              "    }\n",
              "\n",
              "    .dataframe tbody tr th {\n",
              "        vertical-align: top;\n",
              "    }\n",
              "\n",
              "    .dataframe thead th {\n",
              "        text-align: right;\n",
              "    }\n",
              "</style>\n",
              "<table border=\"1\" class=\"dataframe\">\n",
              "  <thead>\n",
              "    <tr style=\"text-align: right;\">\n",
              "      <th></th>\n",
              "      <th>count</th>\n",
              "      <th>mean</th>\n",
              "      <th>std</th>\n",
              "      <th>min</th>\n",
              "      <th>25%</th>\n",
              "      <th>50%</th>\n",
              "      <th>75%</th>\n",
              "      <th>max</th>\n",
              "    </tr>\n",
              "  </thead>\n",
              "  <tbody>\n",
              "    <tr>\n",
              "      <th>Years of Credit History</th>\n",
              "      <td>100000.0</td>\n",
              "      <td>18.199141</td>\n",
              "      <td>7.015324</td>\n",
              "      <td>3.6</td>\n",
              "      <td>13.5</td>\n",
              "      <td>16.9</td>\n",
              "      <td>21.7</td>\n",
              "      <td>70.5</td>\n",
              "    </tr>\n",
              "  </tbody>\n",
              "</table>\n",
              "</div>"
            ],
            "text/plain": [
              "                            count       mean       std  min   25%   50%   75%  \\\n",
              "Years of Credit History  100000.0  18.199141  7.015324  3.6  13.5  16.9  21.7   \n",
              "\n",
              "                          max  \n",
              "Years of Credit History  70.5  "
            ]
          },
          "metadata": {
            "tags": []
          },
          "execution_count": 116
        },
        {
          "output_type": "display_data",
          "data": {
            "image/png": "[encoded data removed]",
            "text/plain": [
              "<Figure size 720x288 with 2 Axes>"
            ]
          },
          "metadata": {
            "tags": []
          }
        }
      ]
    },
    {
      "cell_type": "markdown",
      "metadata": {
        "id": "6ZAHrlotCTbm"
      },
      "source": [
        "#### Monthly Debt"
      ]
    },
    {
      "cell_type": "code",
      "metadata": {
        "colab": {
          "base_uri": "https://localhost:8080/",
          "height": 464
        },
        "id": "aV6tt3_mCTbm",
        "outputId": "f5b60545-af6a-4df3-b707-eb7ced79ecc0"
      },
      "source": [
        "analyze_feature(train, 'Monthly Debt')"
      ],
      "execution_count": null,
      "outputs": [
        {
          "output_type": "stream",
          "text": [
            "/usr/local/lib/python3.6/dist-packages/seaborn/distributions.py:2551: FutureWarning: `distplot` is a deprecated function and will be removed in a future version. Please adapt your code to use either `displot` (a figure-level function with similar flexibility) or `histplot` (an axes-level function for histograms).\n",
            "  warnings.warn(msg, FutureWarning)\n",
            "/usr/local/lib/python3.6/dist-packages/seaborn/distributions.py:2055: FutureWarning: The `axis` variable is no longer used and will be removed. Instead, assign variables directly to `x` or `y`.\n",
            "  warnings.warn(msg, FutureWarning)\n",
            "/usr/local/lib/python3.6/dist-packages/seaborn/_decorators.py:43: FutureWarning: Pass the following variable as a keyword arg: x. From version 0.12, the only valid positional argument will be `data`, and passing other arguments without an explicit keyword will result in an error or misinterpretation.\n",
            "  FutureWarning\n"
          ],
          "name": "stderr"
        },
        {
          "output_type": "execute_result",
          "data": {
            "text/html": [
              "<div>\n",
              "<style scoped>\n",
              "    .dataframe tbody tr th:only-of-type {\n",
              "        vertical-align: middle;\n",
              "    }\n",
              "\n",
              "    .dataframe tbody tr th {\n",
              "        vertical-align: top;\n",
              "    }\n",
              "\n",
              "    .dataframe thead th {\n",
              "        text-align: right;\n",
              "    }\n",
              "</style>\n",
              "<table border=\"1\" class=\"dataframe\">\n",
              "  <thead>\n",
              "    <tr style=\"text-align: right;\">\n",
              "      <th></th>\n",
              "      <th>count</th>\n",
              "      <th>mean</th>\n",
              "      <th>std</th>\n",
              "      <th>min</th>\n",
              "      <th>25%</th>\n",
              "      <th>50%</th>\n",
              "      <th>75%</th>\n",
              "      <th>max</th>\n",
              "    </tr>\n",
              "  </thead>\n",
              "  <tbody>\n",
              "    <tr>\n",
              "      <th>Monthly Debt</th>\n",
              "      <td>100000.0</td>\n",
              "      <td>18472.412336</td>\n",
              "      <td>12174.992609</td>\n",
              "      <td>0.0</td>\n",
              "      <td>10214.1625</td>\n",
              "      <td>16220.3</td>\n",
              "      <td>24012.0575</td>\n",
              "      <td>435843.28</td>\n",
              "    </tr>\n",
              "  </tbody>\n",
              "</table>\n",
              "</div>"
            ],
            "text/plain": [
              "                 count          mean           std  min         25%      50%  \\\n",
              "Monthly Debt  100000.0  18472.412336  12174.992609  0.0  10214.1625  16220.3   \n",
              "\n",
              "                     75%        max  \n",
              "Monthly Debt  24012.0575  435843.28  "
            ]
          },
          "metadata": {
            "tags": []
          },
          "execution_count": 117
        },
        {
          "output_type": "display_data",
          "data": {
            "image/png": "[encoded data removed]",
            "text/plain": [
              "<Figure size 720x288 with 2 Axes>"
            ]
          },
          "metadata": {
            "tags": []
          }
        }
      ]
    },
    {
      "cell_type": "markdown",
      "metadata": {
        "id": "IHAzD_3xCTbn"
      },
      "source": [
        "#### Number of Credit Problems"
      ]
    },
    {
      "cell_type": "code",
      "metadata": {
        "colab": {
          "base_uri": "https://localhost:8080/",
          "height": 464
        },
        "id": "TNiI1Ti_CTbn",
        "outputId": "d1a7397b-e942-4168-b05b-829fff8d19f2"
      },
      "source": [
        "\r\n",
        "analyze_feature(train, 'Number of Credit Problems')"
      ],
      "execution_count": null,
      "outputs": [
        {
          "output_type": "stream",
          "text": [
            "/usr/local/lib/python3.6/dist-packages/seaborn/distributions.py:2551: FutureWarning: `distplot` is a deprecated function and will be removed in a future version. Please adapt your code to use either `displot` (a figure-level function with similar flexibility) or `histplot` (an axes-level function for histograms).\n",
            "  warnings.warn(msg, FutureWarning)\n",
            "/usr/local/lib/python3.6/dist-packages/seaborn/distributions.py:2055: FutureWarning: The `axis` variable is no longer used and will be removed. Instead, assign variables directly to `x` or `y`.\n",
            "  warnings.warn(msg, FutureWarning)\n",
            "/usr/local/lib/python3.6/dist-packages/seaborn/_decorators.py:43: FutureWarning: Pass the following variable as a keyword arg: x. From version 0.12, the only valid positional argument will be `data`, and passing other arguments without an explicit keyword will result in an error or misinterpretation.\n",
            "  FutureWarning\n"
          ],
          "name": "stderr"
        },
        {
          "output_type": "execute_result",
          "data": {
            "text/html": [
              "<div>\n",
              "<style scoped>\n",
              "    .dataframe tbody tr th:only-of-type {\n",
              "        vertical-align: middle;\n",
              "    }\n",
              "\n",
              "    .dataframe tbody tr th {\n",
              "        vertical-align: top;\n",
              "    }\n",
              "\n",
              "    .dataframe thead th {\n",
              "        text-align: right;\n",
              "    }\n",
              "</style>\n",
              "<table border=\"1\" class=\"dataframe\">\n",
              "  <thead>\n",
              "    <tr style=\"text-align: right;\">\n",
              "      <th></th>\n",
              "      <th>count</th>\n",
              "      <th>mean</th>\n",
              "      <th>std</th>\n",
              "      <th>min</th>\n",
              "      <th>25%</th>\n",
              "      <th>50%</th>\n",
              "      <th>75%</th>\n",
              "      <th>max</th>\n",
              "    </tr>\n",
              "  </thead>\n",
              "  <tbody>\n",
              "    <tr>\n",
              "      <th>Number of Credit Problems</th>\n",
              "      <td>100000.0</td>\n",
              "      <td>0.16831</td>\n",
              "      <td>0.482705</td>\n",
              "      <td>0.0</td>\n",
              "      <td>0.0</td>\n",
              "      <td>0.0</td>\n",
              "      <td>0.0</td>\n",
              "      <td>15.0</td>\n",
              "    </tr>\n",
              "  </tbody>\n",
              "</table>\n",
              "</div>"
            ],
            "text/plain": [
              "                              count     mean       std  min  25%  50%  75%  \\\n",
              "Number of Credit Problems  100000.0  0.16831  0.482705  0.0  0.0  0.0  0.0   \n",
              "\n",
              "                            max  \n",
              "Number of Credit Problems  15.0  "
            ]
          },
          "metadata": {
            "tags": []
          },
          "execution_count": 118
        },
        {
          "output_type": "display_data",
          "data": {
            "image/png": "[encoded data removed]",
            "text/plain": [
              "<Figure size 720x288 with 2 Axes>"
            ]
          },
          "metadata": {
            "tags": []
          }
        }
      ]
    },
    {
      "cell_type": "markdown",
      "metadata": {
        "id": "RGzgNtSNCTbo"
      },
      "source": [
        "#### Current Credit Balance"
      ]
    },
    {
      "cell_type": "code",
      "metadata": {
        "colab": {
          "base_uri": "https://localhost:8080/",
          "height": 473
        },
        "id": "UQbFaEKECTbp",
        "outputId": "f26a49c3-b710-4709-d768-1e16e9a5ae36"
      },
      "source": [
        "analyze_feature(train, 'Current Credit Balance', 45)"
      ],
      "execution_count": null,
      "outputs": [
        {
          "output_type": "stream",
          "text": [
            "/usr/local/lib/python3.6/dist-packages/seaborn/distributions.py:2551: FutureWarning: `distplot` is a deprecated function and will be removed in a future version. Please adapt your code to use either `displot` (a figure-level function with similar flexibility) or `histplot` (an axes-level function for histograms).\n",
            "  warnings.warn(msg, FutureWarning)\n",
            "/usr/local/lib/python3.6/dist-packages/seaborn/distributions.py:2055: FutureWarning: The `axis` variable is no longer used and will be removed. Instead, assign variables directly to `x` or `y`.\n",
            "  warnings.warn(msg, FutureWarning)\n",
            "/usr/local/lib/python3.6/dist-packages/seaborn/_decorators.py:43: FutureWarning: Pass the following variable as a keyword arg: x. From version 0.12, the only valid positional argument will be `data`, and passing other arguments without an explicit keyword will result in an error or misinterpretation.\n",
            "  FutureWarning\n"
          ],
          "name": "stderr"
        },
        {
          "output_type": "execute_result",
          "data": {
            "text/html": [
              "<div>\n",
              "<style scoped>\n",
              "    .dataframe tbody tr th:only-of-type {\n",
              "        vertical-align: middle;\n",
              "    }\n",
              "\n",
              "    .dataframe tbody tr th {\n",
              "        vertical-align: top;\n",
              "    }\n",
              "\n",
              "    .dataframe thead th {\n",
              "        text-align: right;\n",
              "    }\n",
              "</style>\n",
              "<table border=\"1\" class=\"dataframe\">\n",
              "  <thead>\n",
              "    <tr style=\"text-align: right;\">\n",
              "      <th></th>\n",
              "      <th>count</th>\n",
              "      <th>mean</th>\n",
              "      <th>std</th>\n",
              "      <th>min</th>\n",
              "      <th>25%</th>\n",
              "      <th>50%</th>\n",
              "      <th>75%</th>\n",
              "      <th>max</th>\n",
              "    </tr>\n",
              "  </thead>\n",
              "  <tbody>\n",
              "    <tr>\n",
              "      <th>Current Credit Balance</th>\n",
              "      <td>100000.0</td>\n",
              "      <td>294637.38235</td>\n",
              "      <td>376170.934666</td>\n",
              "      <td>0.0</td>\n",
              "      <td>112670.0</td>\n",
              "      <td>209817.0</td>\n",
              "      <td>367958.75</td>\n",
              "      <td>32878968.0</td>\n",
              "    </tr>\n",
              "  </tbody>\n",
              "</table>\n",
              "</div>"
            ],
            "text/plain": [
              "                           count          mean            std  min       25%  \\\n",
              "Current Credit Balance  100000.0  294637.38235  376170.934666  0.0  112670.0   \n",
              "\n",
              "                             50%        75%         max  \n",
              "Current Credit Balance  209817.0  367958.75  32878968.0  "
            ]
          },
          "metadata": {
            "tags": []
          },
          "execution_count": 119
        },
        {
          "output_type": "display_data",
          "data": {
            "image/png": "[encoded data removed]",
            "text/plain": [
              "<Figure size 720x288 with 2 Axes>"
            ]
          },
          "metadata": {
            "tags": []
          }
        }
      ]
    },
    {
      "cell_type": "markdown",
      "metadata": {
        "id": "HQyApR15CTbp"
      },
      "source": [
        "#### Filling Missing Values"
      ]
    },
    {
      "cell_type": "code",
      "metadata": {
        "colab": {
          "base_uri": "https://localhost:8080/"
        },
        "id": "aIVBnlu3CTbq",
        "outputId": "2df9dc56-f34d-402b-82e8-26fbad743771"
      },
      "source": [
        "#iterating the dataset looking for missing value\n",
        "for i in train.columns:\n",
        "    print (i + \": \"+str(sum(train[i].isnull()))+\" missing value\")"
      ],
      "execution_count": null,
      "outputs": [
        {
          "output_type": "stream",
          "text": [
            "Loan ID: 514 missing value\n",
            "Customer ID: 514 missing value\n",
            "Loan Status: 514 missing value\n",
            "Current Loan Amount: 514 missing value\n",
            "Term: 514 missing value\n",
            "Credit Score: 19668 missing value\n",
            "Annual Income: 19668 missing value\n",
            "Years in current job: 4736 missing value\n",
            "Home Ownership: 514 missing value\n",
            "Purpose: 514 missing value\n",
            "Monthly Debt: 514 missing value\n",
            "Years of Credit History: 514 missing value\n",
            "Months since last delinquent: 53655 missing value\n",
            "Number of Open Accounts: 514 missing value\n",
            "Number of Credit Problems: 514 missing value\n",
            "Current Credit Balance: 514 missing value\n",
            "Maximum Open Credit: 516 missing value\n",
            "Bankruptcies: 718 missing value\n",
            "Tax Liens: 524 missing value\n"
          ],
          "name": "stdout"
        }
      ]
    },
    {
      "cell_type": "code",
      "metadata": {
        "colab": {
          "base_uri": "https://localhost:8080/"
        },
        "id": "h1W-Z-wOCTbq",
        "outputId": "da463fa9-f573-4ceb-9c23-22f369a2adfa"
      },
      "source": [
        "#iterating the dataset looking for missing value\n",
        "for i in test.columns:\n",
        "    print (i + \": \"+str(sum(test[i].isnull()))+\" missing value\")"
      ],
      "execution_count": null,
      "outputs": [
        {
          "output_type": "stream",
          "text": [
            "Loan ID: 353 missing value\n",
            "Customer ID: 353 missing value\n",
            "Current Loan Amount: 353 missing value\n",
            "Term: 353 missing value\n",
            "Credit Score: 2334 missing value\n",
            "Annual Income: 2334 missing value\n",
            "Years in current job: 780 missing value\n",
            "Home Ownership: 353 missing value\n",
            "Purpose: 353 missing value\n",
            "Monthly Debt: 353 missing value\n",
            "Years of Credit History: 353 missing value\n",
            "Months since last delinquent: 5659 missing value\n",
            "Number of Open Accounts: 353 missing value\n",
            "Number of Credit Problems: 353 missing value\n",
            "Current Credit Balance: 353 missing value\n",
            "Maximum Open Credit: 353 missing value\n",
            "Bankruptcies: 375 missing value\n",
            "Tax Liens: 354 missing value\n"
          ],
          "name": "stdout"
        }
      ]
    },
    {
      "cell_type": "code",
      "metadata": {
        "id": "l-XbO547CTbr"
      },
      "source": [
        "#filling with mode\n",
        "def impute_mode(df, feature): \n",
        "  most_frequent_category=df[feature].mode()[0]\n",
        "  df[feature].fillna(most_frequent_category,inplace=True)"
      ],
      "execution_count": null,
      "outputs": []
    },
    {
      "cell_type": "code",
      "metadata": {
        "id": "HOsikdE2CTbs"
      },
      "source": [
        "impute_mode(train, 'Term')\n",
        "impute_mode(train, 'Home Ownership')\n",
        "impute_mode(train, 'Purpose')\n",
        "impute_mode(train, 'Years in current job')\n",
        "impute_mode(train, 'Loan Status')"
      ],
      "execution_count": null,
      "outputs": []
    },
    {
      "cell_type": "code",
      "metadata": {
        "id": "VZtouAeDG8Dc"
      },
      "source": [
        "impute_mode(test, 'Term')\r\n",
        "impute_mode(test, 'Home Ownership')\r\n",
        "impute_mode(test, 'Purpose')\r\n",
        "impute_mode(test, 'Years in current job')"
      ],
      "execution_count": null,
      "outputs": []
    },
    {
      "cell_type": "code",
      "metadata": {
        "id": "xdjtxZfFCTbt"
      },
      "source": [
        "#filling with meadian\n",
        "def impute_median(df, feature): \n",
        "    df[feature].fillna(df[feature].median(),inplace=True)"
      ],
      "execution_count": null,
      "outputs": []
    },
    {
      "cell_type": "code",
      "metadata": {
        "id": "93GGiM07CTbt"
      },
      "source": [
        "impute_median(train, 'Current Loan Amount')\n",
        "impute_median(train, 'Annual Income')\n",
        "impute_median(train, 'Monthly Debt')\n",
        "impute_median(train, 'Months since last delinquent')\n",
        "impute_median(train, 'Years of Credit History')\n",
        "impute_median(train, 'Tax Liens')\n",
        "impute_median(train, 'Number of Open Accounts')\n",
        "impute_median(train, 'Current Credit Balance')\n",
        "impute_median(train, 'Maximum Open Credit')\n",
        "impute_median(train, 'Bankruptcies')\n",
        "impute_median(train, 'Number of Credit Problems')"
      ],
      "execution_count": null,
      "outputs": []
    },
    {
      "cell_type": "code",
      "metadata": {
        "id": "8WGmmCd7CTbu"
      },
      "source": [
        "impute_median(test, 'Current Loan Amount')\n",
        "impute_median(test, 'Annual Income')\n",
        "impute_median(test, 'Monthly Debt')\n",
        "impute_median(test, 'Months since last delinquent')\n",
        "impute_median(test, 'Years of Credit History')\n",
        "impute_median(test, 'Tax Liens')\n",
        "impute_median(test, 'Number of Open Accounts')\n",
        "impute_median(test, 'Current Credit Balance')\n",
        "impute_median(test, 'Maximum Open Credit')\n",
        "impute_median(test, 'Bankruptcies')\n",
        "impute_median(test, 'Number of Credit Problems')"
      ],
      "execution_count": null,
      "outputs": []
    },
    {
      "cell_type": "code",
      "metadata": {
        "id": "2wAJEsJaCTbw"
      },
      "source": [
        "def impute_zero(df, feature):\n",
        "    df[feature].fillna(0, inplace=True) "
      ],
      "execution_count": null,
      "outputs": []
    },
    {
      "cell_type": "code",
      "metadata": {
        "id": "ykraxH6QCTbw"
      },
      "source": [
        "impute_zero(train, 'Credit Score')\n",
        "impute_zero(test, 'Credit Score')"
      ],
      "execution_count": null,
      "outputs": []
    },
    {
      "cell_type": "markdown",
      "metadata": {
        "id": "XndZshOjCTbg"
      },
      "source": [
        "It can be seen that around 2 type of loan status exist in this data set i.e. Defaulted and Not Defaulted. Hence, we will need to add a new variable which will be of binomial type (0s and 1s).\n",
        "\n",
        "* 0 means Not Defaulted\n",
        "* 1 means Defaulted\n",
        "All those loans, whose status is **Fully Paid** will be categorized as Not Defaulted and **Charged off** will be categorized as Defaulted. "
      ]
    },
    {
      "cell_type": "code",
      "metadata": {
        "colab": {
          "base_uri": "https://localhost:8080/"
        },
        "id": "7OeJCsYQEyyh",
        "outputId": "88198402-ab5e-4390-f093-f48e496effbf"
      },
      "source": [
        "train['Loan Status'].value_counts()/ len(train)*100"
      ],
      "execution_count": null,
      "outputs": [
        {
          "output_type": "execute_result",
          "data": {
            "text/plain": [
              "Fully Paid     77.476769\n",
              "Charged Off    22.523231\n",
              "Name: Loan Status, dtype: float64"
            ]
          },
          "metadata": {
            "tags": []
          },
          "execution_count": 130
        }
      ]
    },
    {
      "cell_type": "markdown",
      "metadata": {
        "id": "ypAf6ZrfCTbg"
      },
      "source": [
        "It can be seen from above table that only 22.5% of loans are defaulted. Hence, this is very imbalanced data set, which will require some tweaking in parameters during prediction modelling. This we will cover at the end of this entire analysis if need be"
      ]
    },
    {
      "cell_type": "code",
      "metadata": {
        "id": "Tnu38rKcNOYI"
      },
      "source": [
        "do ={'Fully Paid':0,'Charged Off':1}"
      ],
      "execution_count": null,
      "outputs": []
    },
    {
      "cell_type": "code",
      "metadata": {
        "id": "GXFgL4-tNjwy"
      },
      "source": [
        "train['default_not'] = train['Loan Status'].map(do)"
      ],
      "execution_count": null,
      "outputs": []
    },
    {
      "cell_type": "code",
      "metadata": {
        "colab": {
          "base_uri": "https://localhost:8080/",
          "height": 296
        },
        "id": "mQZoWZwzCTbw",
        "outputId": "7f7bdaac-9097-468b-8fa4-a3845b9d2fb2"
      },
      "source": [
        "sns.countplot(data=train, x='Home Ownership')"
      ],
      "execution_count": null,
      "outputs": [
        {
          "output_type": "execute_result",
          "data": {
            "text/plain": [
              "<matplotlib.axes._subplots.AxesSubplot at 0x7f3b49a4e6d8>"
            ]
          },
          "metadata": {
            "tags": []
          },
          "execution_count": 133
        },
        {
          "output_type": "display_data",
          "data": {
            "image/png": "[encoded data removed]",
            "text/plain": [
              "<Figure size 432x288 with 1 Axes>"
            ]
          },
          "metadata": {
            "tags": []
          }
        }
      ]
    },
    {
      "cell_type": "code",
      "metadata": {
        "colab": {
          "base_uri": "https://localhost:8080/",
          "height": 296
        },
        "id": "6Y3lggNeCTbx",
        "outputId": "5aef24a3-52bf-46d7-efbf-6ed4d3980244"
      },
      "source": [
        "sns.countplot(data=train, x='Term')"
      ],
      "execution_count": null,
      "outputs": [
        {
          "output_type": "execute_result",
          "data": {
            "text/plain": [
              "<matplotlib.axes._subplots.AxesSubplot at 0x7f3b499fc320>"
            ]
          },
          "metadata": {
            "tags": []
          },
          "execution_count": 134
        },
        {
          "output_type": "display_data",
          "data": {
            "image/png": "[encoded data removed]",
            "text/plain": [
              "<Figure size 432x288 with 1 Axes>"
            ]
          },
          "metadata": {
            "tags": []
          }
        }
      ]
    },
    {
      "cell_type": "code",
      "metadata": {
        "colab": {
          "base_uri": "https://localhost:8080/",
          "height": 296
        },
        "id": "Pn3g5lE-CTby",
        "outputId": "15f2afec-aa57-4aa9-d866-001bef7cc7ae"
      },
      "source": [
        "sns.countplot(data=train, x='Loan Status')"
      ],
      "execution_count": null,
      "outputs": [
        {
          "output_type": "execute_result",
          "data": {
            "text/plain": [
              "<matplotlib.axes._subplots.AxesSubplot at 0x7f3b499be9b0>"
            ]
          },
          "metadata": {
            "tags": []
          },
          "execution_count": 135
        },
        {
          "output_type": "display_data",
          "data": {
            "image/png": "[encoded data removed]",
            "text/plain": [
              "<Figure size 432x288 with 1 Axes>"
            ]
          },
          "metadata": {
            "tags": []
          }
        }
      ]
    },
    {
      "cell_type": "code",
      "metadata": {
        "colab": {
          "base_uri": "https://localhost:8080/",
          "height": 321
        },
        "id": "xamldi_uCTb0",
        "outputId": "14516ace-f040-4d89-9078-00ad61397002"
      },
      "source": [
        "sns.countplot(data=train, x='Years in current job')\n",
        "pyplot.xticks(rotation=90)\n",
        "pyplot.show()"
      ],
      "execution_count": null,
      "outputs": [
        {
          "output_type": "display_data",
          "data": {
            "image/png": "[encoded data removed]",
            "text/plain": [
              "<Figure size 432x288 with 1 Axes>"
            ]
          },
          "metadata": {
            "tags": []
          }
        }
      ]
    },
    {
      "cell_type": "code",
      "metadata": {
        "colab": {
          "base_uri": "https://localhost:8080/",
          "height": 379
        },
        "id": "NY-SP6_KCTb1",
        "outputId": "23ada955-0f6d-4325-bb35-e74520fcfe3a"
      },
      "source": [
        "sns.countplot(data=train, x='Purpose')\n",
        "pyplot.xticks(rotation=90)\n",
        "pyplot.show()"
      ],
      "execution_count": null,
      "outputs": [
        {
          "output_type": "display_data",
          "data": {
            "image/png": "[encoded data removed]",
            "text/plain": [
              "<Figure size 432x288 with 1 Axes>"
            ]
          },
          "metadata": {
            "tags": []
          }
        }
      ]
    },
    {
      "cell_type": "markdown",
      "metadata": {
        "id": "CKmiNdj1CTb2"
      },
      "source": [
        "#### Droping of uninformative columns¶\n",
        "This is as a result of the Column that are irrelevant in model building"
      ]
    },
    {
      "cell_type": "code",
      "metadata": {
        "colab": {
          "base_uri": "https://localhost:8080/"
        },
        "id": "dOeeXJv4CTb2",
        "outputId": "49f0e88e-89a6-482c-9a48-1bf1f1ee915e"
      },
      "source": [
        "xyz = ['Loan ID', 'Customer ID']\n",
        "train.drop(xyz,axis=1,inplace=True)\n",
        "print(\"shape of data is: {}\".format(train.shape))"
      ],
      "execution_count": null,
      "outputs": [
        {
          "output_type": "stream",
          "text": [
            "shape of data is: (100514, 18)\n"
          ],
          "name": "stdout"
        }
      ]
    },
    {
      "cell_type": "code",
      "metadata": {
        "colab": {
          "base_uri": "https://localhost:8080/"
        },
        "id": "d0AHbKoBCTb3",
        "outputId": "6c61d649-c295-4fce-e7d2-7e44db925ac8"
      },
      "source": [
        "test.drop(xyz,axis=1,inplace=True)\n",
        "print(\"shape of data is: {}\".format(train.shape))"
      ],
      "execution_count": null,
      "outputs": [
        {
          "output_type": "stream",
          "text": [
            "shape of data is: (100514, 18)\n"
          ],
          "name": "stdout"
        }
      ]
    },
    {
      "cell_type": "code",
      "metadata": {
        "id": "_yEHU167eH5_"
      },
      "source": [
        ""
      ],
      "execution_count": null,
      "outputs": []
    },
    {
      "cell_type": "code",
      "metadata": {
        "id": "rVwEhr0heIve"
      },
      "source": [
        "def outliers(df, feature):\r\n",
        "  IQR = df[feature].quantile(0.75) - df[feature].quantile(0.25)\r\n",
        "  Lower_fence = df[feature].quantile(0.25) - (IQR * 3)\r\n",
        "  Upper_fence = df[feature].quantile(0.75) + (IQR * 3)\r\n",
        "  \r\n",
        "  IQR2 = df[feature].quantile(0.75) - df[feature].quantile(0.25)\r\n",
        "\r\n",
        "  Lower_fence = df[feature].quantile(0.25) - (IQR * 1.5)\r\n",
        "  Upper_fence = df[feature].quantile(0.75) + (IQR * 1.5)\r\n",
        "  \r\n",
        "  df[feature] = np.where(df[feature]<Lower_fence, Lower_fence , df[feature] )"
      ],
      "execution_count": null,
      "outputs": []
    },
    {
      "cell_type": "code",
      "metadata": {
        "id": "FhvX9CxheKpK"
      },
      "source": [
        "outliers(train, 'Current Loan Amount')\r\n",
        "outliers(train, 'Annual Income')\r\n",
        "outliers(train, 'Monthly Debt')\r\n",
        "outliers(train, 'Months since last delinquent')\r\n",
        "outliers(train, 'Years of Credit History')\r\n",
        "outliers(train, 'Tax Liens')\r\n",
        "outliers(train, 'Number of Open Accounts')\r\n",
        "outliers(train, 'Current Credit Balance')\r\n",
        "outliers(train, 'Maximum Open Credit')\r\n",
        "outliers(train, 'Bankruptcies')\r\n",
        "outliers(train, 'Number of Credit Problems')"
      ],
      "execution_count": null,
      "outputs": []
    },
    {
      "cell_type": "code",
      "metadata": {
        "id": "rC5SztA7eogH"
      },
      "source": [
        "outliers(test, 'Current Loan Amount')\r\n",
        "outliers(test, 'Annual Income')\r\n",
        "outliers(test, 'Monthly Debt')\r\n",
        "outliers(test, 'Months since last delinquent')\r\n",
        "outliers(test, 'Years of Credit History')\r\n",
        "outliers(test, 'Tax Liens')\r\n",
        "outliers(test, 'Number of Open Accounts')\r\n",
        "outliers(test, 'Current Credit Balance')\r\n",
        "outliers(test, 'Maximum Open Credit')\r\n",
        "outliers(test, 'Bankruptcies')\r\n",
        "outliers(test, 'Number of Credit Problems')"
      ],
      "execution_count": null,
      "outputs": []
    },
    {
      "cell_type": "markdown",
      "metadata": {
        "id": "GRtNFl67iZtf"
      },
      "source": [
        "Let us deal with the categorical values in the training and test dataset"
      ]
    },
    {
      "cell_type": "code",
      "metadata": {
        "id": "d_pLiIIaiY9Z"
      },
      "source": [
        "# creating instance of labelencoder\r\n",
        "labelencoder = LabelEncoder()\r\n",
        "# Assigning numerical values and storing in another column\r\n",
        "train['Term'] = labelencoder.fit_transform(train['Term'])\r\n",
        "test['Term'] = labelencoder.fit_transform(test['Term'])"
      ],
      "execution_count": null,
      "outputs": []
    },
    {
      "cell_type": "code",
      "metadata": {
        "id": "5CHnE1nBiqsH"
      },
      "source": [
        "cat  = ['Home Ownership', 'Purpose']\r\n",
        "# creating instance of one-hot-encoder\r\n",
        "enc = OneHotEncoder(handle_unknown='ignore')\r\n",
        "\r\n",
        "# create dummy columns and drop the first dummy column\r\n",
        "df_dropped = pd.get_dummies(train[cat], prefix='cat', drop_first=True)\r\n",
        "df_droppedtest = pd.get_dummies(test[cat], prefix='cat', drop_first=True)\r\n",
        "\r\n",
        "# change the data type to float\r\n",
        "#df_dropped = df_dropped.astype('float')\r\n"
      ],
      "execution_count": null,
      "outputs": []
    },
    {
      "cell_type": "code",
      "metadata": {
        "id": "5wOKK3Wll-YZ"
      },
      "source": [
        "# merge with main df bridge_df on key values\r\n",
        "train = train.join(df_dropped)\r\n",
        "test = test.join(df_droppedtest)"
      ],
      "execution_count": null,
      "outputs": []
    },
    {
      "cell_type": "code",
      "metadata": {
        "id": "9EdMVVt2mrQs"
      },
      "source": [
        "train.drop(cat, axis=1, inplace=True)\r\n",
        "test.drop(cat, axis=1, inplace=True)"
      ],
      "execution_count": null,
      "outputs": []
    },
    {
      "cell_type": "code",
      "metadata": {
        "colab": {
          "base_uri": "https://localhost:8080/"
        },
        "id": "CmWvq4yNbUHM",
        "outputId": "c6f26f52-e20a-49e9-f551-ba73dcb280a5"
      },
      "source": [
        "train['Years in current job'].value_counts()"
      ],
      "execution_count": null,
      "outputs": [
        {
          "output_type": "execute_result",
          "data": {
            "text/plain": [
              "10+ years    35857\n",
              "2 years       9134\n",
              "3 years       8169\n",
              "< 1 year      8164\n",
              "5 years       6787\n",
              "1 year        6460\n",
              "4 years       6143\n",
              "6 years       5686\n",
              "7 years       5577\n",
              "8 years       4582\n",
              "9 years       3955\n",
              "Name: Years in current job, dtype: int64"
            ]
          },
          "metadata": {
            "tags": []
          },
          "execution_count": 147
        }
      ]
    },
    {
      "cell_type": "code",
      "metadata": {
        "id": "TrcosFVRb61x"
      },
      "source": [
        "train['Years in current job'].replace({'< 1 year': '0'}, inplace=True)\r\n",
        "train['Years in current job'].replace({'1 year': '1'}, inplace=True)\r\n",
        "train['Years in current job'].replace({'2 years': '2'}, inplace=True)\r\n",
        "train['Years in current job'].replace({'3 years': '3'}, inplace=True)\r\n",
        "train['Years in current job'].replace({'4 years': '4'}, inplace=True)\r\n",
        "train['Years in current job'].replace({'5 years': '5'}, inplace=True)\r\n",
        "train['Years in current job'].replace({'6 years': '6'}, inplace=True)\r\n",
        "train['Years in current job'].replace({'7 years': '7'}, inplace=True)\r\n",
        "train['Years in current job'].replace({'8 years': '8'}, inplace=True)\r\n",
        "train['Years in current job'].replace({'9 years': '9'}, inplace=True)\r\n",
        "train['Years in current job'].replace({'10+ years': '10'}, inplace=True)"
      ],
      "execution_count": null,
      "outputs": []
    },
    {
      "cell_type": "code",
      "metadata": {
        "id": "fb-Zd6cTe3HQ"
      },
      "source": [
        "test['Years in current job'].replace({'< 1 year': '0'}, inplace=True)\r\n",
        "test['Years in current job'].replace({'1 year': '1'}, inplace=True)\r\n",
        "test['Years in current job'].replace({'2 years': '2'}, inplace=True)\r\n",
        "test['Years in current job'].replace({'3 years': '3'}, inplace=True)\r\n",
        "test['Years in current job'].replace({'4 years': '4'}, inplace=True)\r\n",
        "test['Years in current job'].replace({'5 years': '5'}, inplace=True)\r\n",
        "test['Years in current job'].replace({'6 years': '6'}, inplace=True)\r\n",
        "test['Years in current job'].replace({'7 years': '7'}, inplace=True)\r\n",
        "test['Years in current job'].replace({'8 years': '8'}, inplace=True)\r\n",
        "test['Years in current job'].replace({'9 years': '9'}, inplace=True)\r\n",
        "test['Years in current job'].replace({'10+ years': '20'}, inplace=True)"
      ],
      "execution_count": null,
      "outputs": []
    },
    {
      "cell_type": "code",
      "metadata": {
        "id": "sZiny9uJh8Ld"
      },
      "source": [
        ""
      ],
      "execution_count": null,
      "outputs": []
    },
    {
      "cell_type": "markdown",
      "metadata": {
        "id": "J6QoMBktCTb4"
      },
      "source": [
        "## Data Preprocessing & Feature Engineering"
      ]
    },
    {
      "cell_type": "markdown",
      "metadata": {
        "id": "9BLSXQVjCTb4"
      },
      "source": [
        "#### Steps\n",
        "\n",
        "1.   Fine classing\n",
        "2.   Coarse classing using weight of evidence\n",
        "\n",
        "Note: For Weight of Evidence calculations, Target value **1 is referred to the Good** class while Target value **0 is reffered to the Bad class**. However, in the real context of the business problem it is vice versa. \n"
      ]
    },
    {
      "cell_type": "code",
      "metadata": {
        "id": "A__WkA-iUneT"
      },
      "source": [
        "#merge train and test together\r\n"
      ],
      "execution_count": null,
      "outputs": []
    },
    {
      "cell_type": "code",
      "metadata": {
        "id": "-HSBLMRvCTb5"
      },
      "source": [
        "def woe_continuous(df, variable, target_variable, discrete=False):\n",
        "    \"\"\"\n",
        "    params:\n",
        "    df: A dataframe containing both discrete variables and continuous variables.\n",
        "    variable: Variable to get WoE as a string, ie. 'employment'.\n",
        "    target_variable: Discrete dependent variable split from main dataset. \n",
        "    discrete: A switch for turning on and off the variable type.\n",
        "    \n",
        "    return:\n",
        "    data: A dataframe with WoE and IV (Information Value) calculated.\n",
        "    \n",
        "    Example:\n",
        "    woe_IV = woe_discrete(df=dataframe, variable='discrete_variable_name_in_dataframe', \n",
        "    target_variable=dependent_variable_array_or_dataframe)\n",
        "    \"\"\"\n",
        "    data = pd.concat([df[variable], target_variable], axis=1)\n",
        "    data = pd.concat([data.groupby(data.columns.values[0], as_index=False)[data.columns.values[1]].count(),\n",
        "                      data.groupby(data.columns.values[0], as_index=False)[data.columns.values[1]].mean()], axis=1)\n",
        "    data = data.iloc[:,[0,1,3]]\n",
        "    data.columns = [data.columns.values[0], 'n_obs', 'prop_good']\n",
        "    data['prop_n_obs'] = data['n_obs'] / data['n_obs'].sum()\n",
        "    data['n_good'] = data['prop_good'] * data['n_obs']\n",
        "    data['n_bad'] = (1-data['prop_good']) * data['n_obs']\n",
        "    data['prop_n_good'] = data['n_good'] / data['n_good'].sum()\n",
        "    data['prop_n_bad'] = data['n_bad'] / data['n_bad'].sum()\n",
        "    data['WoE'] = np.log(data['prop_n_good'] / data['prop_n_bad'])\n",
        "    if discrete:\n",
        "        data = data.sort_values(['WoE'])\n",
        "        data = data.reset_index(drop=True)\n",
        "    data['diff_prop_good'] = data['prop_good'].diff().abs()\n",
        "    data['diff_WoE'] = data['WoE'].diff().abs()\n",
        "    data['IV'] = (data['prop_n_good'] - data['prop_n_bad']) * data['WoE']\n",
        "    data['IV'] = data['IV'].sum()\n",
        "    return data "
      ],
      "execution_count": null,
      "outputs": []
    },
    {
      "cell_type": "code",
      "metadata": {
        "id": "GBD7R2PJCTb5"
      },
      "source": [
        "# Function to create plots based on WoE. What we want to plot is the feature name on the x-axis and the WoE on the y-axis\n",
        "def plot_WoE(WoE_df, rotation=0):\n",
        "    \"\"\"\n",
        "    params:\n",
        "    Woe_df: A dataframe with Weight of Evidence calculated.\n",
        "    rotation: A rotation of the x_label axis to show plots cleanly. Default is horizontal = 0.\n",
        "    \n",
        "    return: Plot sheet wide weight of evidence\n",
        "    \"\"\"\n",
        "    x_axis = np.array(WoE_df.iloc[:,0].apply(str)) #make sure that the values in the category are strings. We use array because\n",
        "    # matplotlib doesnt work too well without data in array form.\n",
        "    y_axis = WoE_df['WoE']\n",
        "    plt.figure(figsize=(18, 6))\n",
        "    plt.plot(x_axis, y_axis, marker='o', linestyle='--', color='k')\n",
        "    plt.xlabel(WoE_df.columns[0])\n",
        "    plt.ylabel('Weight of Evidence')\n",
        "    plt.title(str('Weight of Evidence by ' + WoE_df.columns[0]))\n",
        "    plt.xticks(rotation=rotation)"
      ],
      "execution_count": null,
      "outputs": []
    },
    {
      "cell_type": "code",
      "metadata": {
        "colab": {
          "base_uri": "https://localhost:8080/"
        },
        "id": "PWOZjXb3CTb7",
        "outputId": "68500934-5725-4b4e-b841-0ea120e6492e"
      },
      "source": [
        "train.columns"
      ],
      "execution_count": null,
      "outputs": [
        {
          "output_type": "execute_result",
          "data": {
            "text/plain": [
              "Index(['Loan Status', 'Current Loan Amount', 'Term', 'Credit Score',\n",
              "       'Annual Income', 'Years in current job', 'Monthly Debt',\n",
              "       'Years of Credit History', 'Months since last delinquent',\n",
              "       'Number of Open Accounts', 'Number of Credit Problems',\n",
              "       'Current Credit Balance', 'Maximum Open Credit', 'Bankruptcies',\n",
              "       'Tax Liens', 'default_not', 'cat_Home Mortgage', 'cat_Own Home',\n",
              "       'cat_Rent', 'cat_Buy House', 'cat_Buy a Car', 'cat_Debt Consolidation',\n",
              "       'cat_Educational Expenses', 'cat_Home Improvements',\n",
              "       'cat_Medical Bills', 'cat_Other', 'cat_Take a Trip',\n",
              "       'cat_major_purchase', 'cat_moving', 'cat_other', 'cat_renewable_energy',\n",
              "       'cat_small_business', 'cat_vacation', 'cat_wedding'],\n",
              "      dtype='object')"
            ]
          },
          "metadata": {
            "tags": []
          },
          "execution_count": 153
        }
      ]
    },
    {
      "cell_type": "markdown",
      "metadata": {
        "id": "yKIvGuoRCTb7"
      },
      "source": [
        "#### Annual Income"
      ]
    },
    {
      "cell_type": "code",
      "metadata": {
        "colab": {
          "base_uri": "https://localhost:8080/",
          "height": 295
        },
        "id": "ohcs3ackCTb8",
        "outputId": "ec4f98d5-3ea0-43a2-9a25-4b57069af8b5"
      },
      "source": [
        "train['Annual Income'].hist()"
      ],
      "execution_count": null,
      "outputs": [
        {
          "output_type": "execute_result",
          "data": {
            "text/plain": [
              "<matplotlib.axes._subplots.AxesSubplot at 0x7f3b498853c8>"
            ]
          },
          "metadata": {
            "tags": []
          },
          "execution_count": 154
        },
        {
          "output_type": "display_data",
          "data": {
            "image/png": "[encoded data removed]",
            "text/plain": [
              "<Figure size 432x288 with 1 Axes>"
            ]
          },
          "metadata": {
            "tags": []
          }
        }
      ]
    },
    {
      "cell_type": "code",
      "metadata": {
        "colab": {
          "base_uri": "https://localhost:8080/"
        },
        "id": "Cqnod6-KCTb9",
        "outputId": "26e9733e-6c50-49ca-9159-36292755abf6"
      },
      "source": [
        "train['Annual Income'].describe()"
      ],
      "execution_count": null,
      "outputs": [
        {
          "output_type": "execute_result",
          "data": {
            "text/plain": [
              "count    1.005140e+05\n",
              "mean     1.338337e+06\n",
              "std      9.731830e+05\n",
              "min      7.662700e+04\n",
              "25%      9.324250e+05\n",
              "50%      1.174162e+06\n",
              "75%      1.509968e+06\n",
              "max      1.655574e+08\n",
              "Name: Annual Income, dtype: float64"
            ]
          },
          "metadata": {
            "tags": []
          },
          "execution_count": 155
        }
      ]
    },
    {
      "cell_type": "code",
      "metadata": {
        "colab": {
          "base_uri": "https://localhost:8080/"
        },
        "id": "teoE0awAJMlI",
        "outputId": "e945c1b3-aed0-4512-f025-23021aea668c"
      },
      "source": [
        "pd.qcut(train['Annual Income'], q=8).value_counts().sort_values(axis=0, ascending=True)"
      ],
      "execution_count": null,
      "outputs": [
        {
          "output_type": "execute_result",
          "data": {
            "text/plain": [
              "(1174162.0, 1232910.0]         2735\n",
              "(1509968.0, 1951292.875]      12561\n",
              "(932425.0, 1136867.375]       12561\n",
              "(1232910.0, 1509968.0]        12562\n",
              "(1951292.875, 165557393.0]    12565\n",
              "(76626.999, 723242.125]       12565\n",
              "(723242.125, 932425.0]        12567\n",
              "(1136867.375, 1174162.0]      22398\n",
              "Name: Annual Income, dtype: int64"
            ]
          },
          "metadata": {
            "tags": []
          },
          "execution_count": 156
        }
      ]
    },
    {
      "cell_type": "code",
      "metadata": {
        "id": "eAk070NACTb9"
      },
      "source": [
        "bins = pd.IntervalIndex.from_tuples([(76626.999, 723242.125), (723242.125, 932425.0),\n",
        "                                    (932425.0, 1136867.375), (1136867.375, 1174162.0), (1174162.0, 1232910.0), (1232910.0, 1509968.0), (1509968.0, 1951292.875),\n",
        "                                (1951292.875, 165557393.0)])"
      ],
      "execution_count": null,
      "outputs": []
    },
    {
      "cell_type": "code",
      "metadata": {
        "id": "ec3FfvnACTb-"
      },
      "source": [
        "train['AnnualIncome_factor'] = pd.cut(train['Annual Income'], bins=bins, precision=0, right=True)"
      ],
      "execution_count": null,
      "outputs": []
    },
    {
      "cell_type": "code",
      "metadata": {
        "colab": {
          "base_uri": "https://localhost:8080/"
        },
        "id": "yQuHDNAHCTb-",
        "outputId": "d3543cdc-c828-4fa1-b96a-07a4521cf5fe"
      },
      "source": [
        "train['AnnualIncome_factor'].value_counts()"
      ],
      "execution_count": null,
      "outputs": [
        {
          "output_type": "execute_result",
          "data": {
            "text/plain": [
              "(1136867.375, 1174162.0]      22398\n",
              "(723242.125, 932425.0]        12567\n",
              "(1951292.875, 165557393.0]    12565\n",
              "(76626.999, 723242.125]       12565\n",
              "(1232910.0, 1509968.0]        12562\n",
              "(1509968.0, 1951292.875]      12561\n",
              "(932425.0, 1136867.375]       12561\n",
              "(1174162.0, 1232910.0]         2735\n",
              "Name: AnnualIncome_factor, dtype: int64"
            ]
          },
          "metadata": {
            "tags": []
          },
          "execution_count": 159
        }
      ]
    },
    {
      "cell_type": "code",
      "metadata": {
        "colab": {
          "base_uri": "https://localhost:8080/",
          "height": 295
        },
        "id": "geueL2pKCTb_",
        "outputId": "8d7a772b-5ffc-4be4-9e22-0fcc9e3a2de2"
      },
      "source": [
        "train.groupby('AnnualIncome_factor').mean().head(3)"
      ],
      "execution_count": null,
      "outputs": [
        {
          "output_type": "execute_result",
          "data": {
            "text/html": [
              "<div>\n",
              "<style scoped>\n",
              "    .dataframe tbody tr th:only-of-type {\n",
              "        vertical-align: middle;\n",
              "    }\n",
              "\n",
              "    .dataframe tbody tr th {\n",
              "        vertical-align: top;\n",
              "    }\n",
              "\n",
              "    .dataframe thead th {\n",
              "        text-align: right;\n",
              "    }\n",
              "</style>\n",
              "<table border=\"1\" class=\"dataframe\">\n",
              "  <thead>\n",
              "    <tr style=\"text-align: right;\">\n",
              "      <th></th>\n",
              "      <th>Current Loan Amount</th>\n",
              "      <th>Term</th>\n",
              "      <th>Credit Score</th>\n",
              "      <th>Annual Income</th>\n",
              "      <th>Monthly Debt</th>\n",
              "      <th>Years of Credit History</th>\n",
              "      <th>Months since last delinquent</th>\n",
              "      <th>Number of Open Accounts</th>\n",
              "      <th>Number of Credit Problems</th>\n",
              "      <th>Current Credit Balance</th>\n",
              "      <th>Maximum Open Credit</th>\n",
              "      <th>Bankruptcies</th>\n",
              "      <th>Tax Liens</th>\n",
              "      <th>default_not</th>\n",
              "      <th>cat_Home Mortgage</th>\n",
              "      <th>cat_Own Home</th>\n",
              "      <th>cat_Rent</th>\n",
              "      <th>cat_Buy House</th>\n",
              "      <th>cat_Buy a Car</th>\n",
              "      <th>cat_Debt Consolidation</th>\n",
              "      <th>cat_Educational Expenses</th>\n",
              "      <th>cat_Home Improvements</th>\n",
              "      <th>cat_Medical Bills</th>\n",
              "      <th>cat_Other</th>\n",
              "      <th>cat_Take a Trip</th>\n",
              "      <th>cat_major_purchase</th>\n",
              "      <th>cat_moving</th>\n",
              "      <th>cat_other</th>\n",
              "      <th>cat_renewable_energy</th>\n",
              "      <th>cat_small_business</th>\n",
              "      <th>cat_vacation</th>\n",
              "      <th>cat_wedding</th>\n",
              "    </tr>\n",
              "    <tr>\n",
              "      <th>AnnualIncome_factor</th>\n",
              "      <th></th>\n",
              "      <th></th>\n",
              "      <th></th>\n",
              "      <th></th>\n",
              "      <th></th>\n",
              "      <th></th>\n",
              "      <th></th>\n",
              "      <th></th>\n",
              "      <th></th>\n",
              "      <th></th>\n",
              "      <th></th>\n",
              "      <th></th>\n",
              "      <th></th>\n",
              "      <th></th>\n",
              "      <th></th>\n",
              "      <th></th>\n",
              "      <th></th>\n",
              "      <th></th>\n",
              "      <th></th>\n",
              "      <th></th>\n",
              "      <th></th>\n",
              "      <th></th>\n",
              "      <th></th>\n",
              "      <th></th>\n",
              "      <th></th>\n",
              "      <th></th>\n",
              "      <th></th>\n",
              "      <th></th>\n",
              "      <th></th>\n",
              "      <th></th>\n",
              "      <th></th>\n",
              "      <th></th>\n",
              "    </tr>\n",
              "  </thead>\n",
              "  <tbody>\n",
              "    <tr>\n",
              "      <th>(76626.999, 723242.125]</th>\n",
              "      <td>1.345016e+07</td>\n",
              "      <td>0.879984</td>\n",
              "      <td>1164.168086</td>\n",
              "      <td>5.608471e+05</td>\n",
              "      <td>8768.016661</td>\n",
              "      <td>15.839331</td>\n",
              "      <td>36.500915</td>\n",
              "      <td>9.031357</td>\n",
              "      <td>0.174771</td>\n",
              "      <td>148004.075448</td>\n",
              "      <td>360641.636769</td>\n",
              "      <td>0.134660</td>\n",
              "      <td>0.017509</td>\n",
              "      <td>0.264465</td>\n",
              "      <td>0.228731</td>\n",
              "      <td>0.149463</td>\n",
              "      <td>0.619737</td>\n",
              "      <td>0.007959</td>\n",
              "      <td>0.020852</td>\n",
              "      <td>0.751612</td>\n",
              "      <td>0.002547</td>\n",
              "      <td>0.037485</td>\n",
              "      <td>0.012495</td>\n",
              "      <td>0.043693</td>\n",
              "      <td>0.009152</td>\n",
              "      <td>0.005173</td>\n",
              "      <td>0.001910</td>\n",
              "      <td>0.087545</td>\n",
              "      <td>0.00008</td>\n",
              "      <td>0.002228</td>\n",
              "      <td>0.002228</td>\n",
              "      <td>0.000557</td>\n",
              "    </tr>\n",
              "    <tr>\n",
              "      <th>(723242.125, 932425.0]</th>\n",
              "      <td>1.344908e+07</td>\n",
              "      <td>0.751731</td>\n",
              "      <td>1126.136628</td>\n",
              "      <td>8.256550e+05</td>\n",
              "      <td>12976.069428</td>\n",
              "      <td>16.867924</td>\n",
              "      <td>36.997056</td>\n",
              "      <td>10.377497</td>\n",
              "      <td>0.182939</td>\n",
              "      <td>196645.645739</td>\n",
              "      <td>453189.870932</td>\n",
              "      <td>0.136150</td>\n",
              "      <td>0.023713</td>\n",
              "      <td>0.245325</td>\n",
              "      <td>0.371767</td>\n",
              "      <td>0.102491</td>\n",
              "      <td>0.523832</td>\n",
              "      <td>0.006366</td>\n",
              "      <td>0.012573</td>\n",
              "      <td>0.799077</td>\n",
              "      <td>0.000875</td>\n",
              "      <td>0.041139</td>\n",
              "      <td>0.011220</td>\n",
              "      <td>0.032705</td>\n",
              "      <td>0.006366</td>\n",
              "      <td>0.003024</td>\n",
              "      <td>0.001830</td>\n",
              "      <td>0.068354</td>\n",
              "      <td>0.00008</td>\n",
              "      <td>0.002228</td>\n",
              "      <td>0.000875</td>\n",
              "      <td>0.001273</td>\n",
              "    </tr>\n",
              "    <tr>\n",
              "      <th>(932425.0, 1136867.375]</th>\n",
              "      <td>1.459459e+07</td>\n",
              "      <td>0.701457</td>\n",
              "      <td>1111.998806</td>\n",
              "      <td>1.028119e+06</td>\n",
              "      <td>15681.177700</td>\n",
              "      <td>17.663928</td>\n",
              "      <td>37.305867</td>\n",
              "      <td>11.007245</td>\n",
              "      <td>0.180320</td>\n",
              "      <td>238745.874214</td>\n",
              "      <td>554196.700103</td>\n",
              "      <td>0.134464</td>\n",
              "      <td>0.022052</td>\n",
              "      <td>0.226415</td>\n",
              "      <td>0.460553</td>\n",
              "      <td>0.087493</td>\n",
              "      <td>0.449248</td>\n",
              "      <td>0.006369</td>\n",
              "      <td>0.011464</td>\n",
              "      <td>0.800732</td>\n",
              "      <td>0.000796</td>\n",
              "      <td>0.051747</td>\n",
              "      <td>0.010031</td>\n",
              "      <td>0.030969</td>\n",
              "      <td>0.005971</td>\n",
              "      <td>0.003184</td>\n",
              "      <td>0.001353</td>\n",
              "      <td>0.060982</td>\n",
              "      <td>0.00000</td>\n",
              "      <td>0.002707</td>\n",
              "      <td>0.000557</td>\n",
              "      <td>0.001353</td>\n",
              "    </tr>\n",
              "  </tbody>\n",
              "</table>\n",
              "</div>"
            ],
            "text/plain": [
              "                         Current Loan Amount      Term  Credit Score  \\\n",
              "AnnualIncome_factor                                                    \n",
              "(76626.999, 723242.125]         1.345016e+07  0.879984   1164.168086   \n",
              "(723242.125, 932425.0]          1.344908e+07  0.751731   1126.136628   \n",
              "(932425.0, 1136867.375]         1.459459e+07  0.701457   1111.998806   \n",
              "\n",
              "                         Annual Income  Monthly Debt  Years of Credit History  \\\n",
              "AnnualIncome_factor                                                             \n",
              "(76626.999, 723242.125]   5.608471e+05   8768.016661                15.839331   \n",
              "(723242.125, 932425.0]    8.256550e+05  12976.069428                16.867924   \n",
              "(932425.0, 1136867.375]   1.028119e+06  15681.177700                17.663928   \n",
              "\n",
              "                         Months since last delinquent  \\\n",
              "AnnualIncome_factor                                     \n",
              "(76626.999, 723242.125]                     36.500915   \n",
              "(723242.125, 932425.0]                      36.997056   \n",
              "(932425.0, 1136867.375]                     37.305867   \n",
              "\n",
              "                         Number of Open Accounts  Number of Credit Problems  \\\n",
              "AnnualIncome_factor                                                           \n",
              "(76626.999, 723242.125]                 9.031357                   0.174771   \n",
              "(723242.125, 932425.0]                 10.377497                   0.182939   \n",
              "(932425.0, 1136867.375]                11.007245                   0.180320   \n",
              "\n",
              "                         Current Credit Balance  Maximum Open Credit  \\\n",
              "AnnualIncome_factor                                                    \n",
              "(76626.999, 723242.125]           148004.075448        360641.636769   \n",
              "(723242.125, 932425.0]            196645.645739        453189.870932   \n",
              "(932425.0, 1136867.375]           238745.874214        554196.700103   \n",
              "\n",
              "                         Bankruptcies  Tax Liens  default_not  \\\n",
              "AnnualIncome_factor                                             \n",
              "(76626.999, 723242.125]      0.134660   0.017509     0.264465   \n",
              "(723242.125, 932425.0]       0.136150   0.023713     0.245325   \n",
              "(932425.0, 1136867.375]      0.134464   0.022052     0.226415   \n",
              "\n",
              "                         cat_Home Mortgage  cat_Own Home  cat_Rent  \\\n",
              "AnnualIncome_factor                                                  \n",
              "(76626.999, 723242.125]           0.228731      0.149463  0.619737   \n",
              "(723242.125, 932425.0]            0.371767      0.102491  0.523832   \n",
              "(932425.0, 1136867.375]           0.460553      0.087493  0.449248   \n",
              "\n",
              "                         cat_Buy House  cat_Buy a Car  cat_Debt Consolidation  \\\n",
              "AnnualIncome_factor                                                             \n",
              "(76626.999, 723242.125]       0.007959       0.020852                0.751612   \n",
              "(723242.125, 932425.0]        0.006366       0.012573                0.799077   \n",
              "(932425.0, 1136867.375]       0.006369       0.011464                0.800732   \n",
              "\n",
              "                         cat_Educational Expenses  cat_Home Improvements  \\\n",
              "AnnualIncome_factor                                                        \n",
              "(76626.999, 723242.125]                  0.002547               0.037485   \n",
              "(723242.125, 932425.0]                   0.000875               0.041139   \n",
              "(932425.0, 1136867.375]                  0.000796               0.051747   \n",
              "\n",
              "                         cat_Medical Bills  cat_Other  cat_Take a Trip  \\\n",
              "AnnualIncome_factor                                                      \n",
              "(76626.999, 723242.125]           0.012495   0.043693         0.009152   \n",
              "(723242.125, 932425.0]            0.011220   0.032705         0.006366   \n",
              "(932425.0, 1136867.375]           0.010031   0.030969         0.005971   \n",
              "\n",
              "                         cat_major_purchase  cat_moving  cat_other  \\\n",
              "AnnualIncome_factor                                                  \n",
              "(76626.999, 723242.125]            0.005173    0.001910   0.087545   \n",
              "(723242.125, 932425.0]             0.003024    0.001830   0.068354   \n",
              "(932425.0, 1136867.375]            0.003184    0.001353   0.060982   \n",
              "\n",
              "                         cat_renewable_energy  cat_small_business  \\\n",
              "AnnualIncome_factor                                                 \n",
              "(76626.999, 723242.125]               0.00008            0.002228   \n",
              "(723242.125, 932425.0]                0.00008            0.002228   \n",
              "(932425.0, 1136867.375]               0.00000            0.002707   \n",
              "\n",
              "                         cat_vacation  cat_wedding  \n",
              "AnnualIncome_factor                                 \n",
              "(76626.999, 723242.125]      0.002228     0.000557  \n",
              "(723242.125, 932425.0]       0.000875     0.001273  \n",
              "(932425.0, 1136867.375]      0.000557     0.001353  "
            ]
          },
          "metadata": {
            "tags": []
          },
          "execution_count": 160
        }
      ]
    },
    {
      "cell_type": "code",
      "metadata": {
        "id": "7zCgDxvHCTb_"
      },
      "source": [
        "df_temp = woe_continuous(train, 'AnnualIncome_factor', train['Credit Score'])"
      ],
      "execution_count": null,
      "outputs": []
    },
    {
      "cell_type": "code",
      "metadata": {
        "colab": {
          "base_uri": "https://localhost:8080/",
          "height": 297
        },
        "id": "AoT3ISVyCTcA",
        "outputId": "b95738f2-9df0-4b8a-ad75-8a3cba18ecf0"
      },
      "source": [
        "df_temp"
      ],
      "execution_count": null,
      "outputs": [
        {
          "output_type": "execute_result",
          "data": {
            "text/html": [
              "<div>\n",
              "<style scoped>\n",
              "    .dataframe tbody tr th:only-of-type {\n",
              "        vertical-align: middle;\n",
              "    }\n",
              "\n",
              "    .dataframe tbody tr th {\n",
              "        vertical-align: top;\n",
              "    }\n",
              "\n",
              "    .dataframe thead th {\n",
              "        text-align: right;\n",
              "    }\n",
              "</style>\n",
              "<table border=\"1\" class=\"dataframe\">\n",
              "  <thead>\n",
              "    <tr style=\"text-align: right;\">\n",
              "      <th></th>\n",
              "      <th>AnnualIncome_factor</th>\n",
              "      <th>n_obs</th>\n",
              "      <th>prop_good</th>\n",
              "      <th>prop_n_obs</th>\n",
              "      <th>n_good</th>\n",
              "      <th>n_bad</th>\n",
              "      <th>prop_n_good</th>\n",
              "      <th>prop_n_bad</th>\n",
              "      <th>WoE</th>\n",
              "      <th>diff_prop_good</th>\n",
              "      <th>diff_WoE</th>\n",
              "      <th>IV</th>\n",
              "    </tr>\n",
              "  </thead>\n",
              "  <tbody>\n",
              "    <tr>\n",
              "      <th>0</th>\n",
              "      <td>(76626.999, 723242.125]</td>\n",
              "      <td>12565</td>\n",
              "      <td>1164.168086</td>\n",
              "      <td>0.125007</td>\n",
              "      <td>14627772.0</td>\n",
              "      <td>-14615207.0</td>\n",
              "      <td>0.168083</td>\n",
              "      <td>0.168133</td>\n",
              "      <td>-0.000296</td>\n",
              "      <td>NaN</td>\n",
              "      <td>NaN</td>\n",
              "      <td>0.000001</td>\n",
              "    </tr>\n",
              "    <tr>\n",
              "      <th>1</th>\n",
              "      <td>(723242.125, 932425.0]</td>\n",
              "      <td>12567</td>\n",
              "      <td>1126.136628</td>\n",
              "      <td>0.125027</td>\n",
              "      <td>14152159.0</td>\n",
              "      <td>-14139592.0</td>\n",
              "      <td>0.162618</td>\n",
              "      <td>0.162661</td>\n",
              "      <td>-0.000267</td>\n",
              "      <td>38.031458</td>\n",
              "      <td>0.000029</td>\n",
              "      <td>0.000001</td>\n",
              "    </tr>\n",
              "    <tr>\n",
              "      <th>2</th>\n",
              "      <td>(932425.0, 1136867.375]</td>\n",
              "      <td>12561</td>\n",
              "      <td>1111.998806</td>\n",
              "      <td>0.124968</td>\n",
              "      <td>13967817.0</td>\n",
              "      <td>-13955256.0</td>\n",
              "      <td>0.160499</td>\n",
              "      <td>0.160541</td>\n",
              "      <td>-0.000256</td>\n",
              "      <td>14.137822</td>\n",
              "      <td>0.000011</td>\n",
              "      <td>0.000001</td>\n",
              "    </tr>\n",
              "    <tr>\n",
              "      <th>3</th>\n",
              "      <td>(1136867.375, 1174162.0]</td>\n",
              "      <td>22398</td>\n",
              "      <td>129.801411</td>\n",
              "      <td>0.222835</td>\n",
              "      <td>2907292.0</td>\n",
              "      <td>-2884894.0</td>\n",
              "      <td>0.033407</td>\n",
              "      <td>0.033188</td>\n",
              "      <td>0.006578</td>\n",
              "      <td>982.197395</td>\n",
              "      <td>0.006834</td>\n",
              "      <td>0.000001</td>\n",
              "    </tr>\n",
              "    <tr>\n",
              "      <th>4</th>\n",
              "      <td>(1174162.0, 1232910.0]</td>\n",
              "      <td>2735</td>\n",
              "      <td>1059.188300</td>\n",
              "      <td>0.027210</td>\n",
              "      <td>2896880.0</td>\n",
              "      <td>-2894145.0</td>\n",
              "      <td>0.033287</td>\n",
              "      <td>0.033294</td>\n",
              "      <td>-0.000211</td>\n",
              "      <td>929.386889</td>\n",
              "      <td>0.006789</td>\n",
              "      <td>0.000001</td>\n",
              "    </tr>\n",
              "    <tr>\n",
              "      <th>5</th>\n",
              "      <td>(1232910.0, 1509968.0]</td>\n",
              "      <td>12562</td>\n",
              "      <td>1048.066630</td>\n",
              "      <td>0.124978</td>\n",
              "      <td>13165813.0</td>\n",
              "      <td>-13153251.0</td>\n",
              "      <td>0.151284</td>\n",
              "      <td>0.151314</td>\n",
              "      <td>-0.000201</td>\n",
              "      <td>11.121670</td>\n",
              "      <td>0.000010</td>\n",
              "      <td>0.000001</td>\n",
              "    </tr>\n",
              "    <tr>\n",
              "      <th>6</th>\n",
              "      <td>(1509968.0, 1951292.875]</td>\n",
              "      <td>12561</td>\n",
              "      <td>1028.142823</td>\n",
              "      <td>0.124968</td>\n",
              "      <td>12914502.0</td>\n",
              "      <td>-12901941.0</td>\n",
              "      <td>0.148396</td>\n",
              "      <td>0.148423</td>\n",
              "      <td>-0.000183</td>\n",
              "      <td>19.923806</td>\n",
              "      <td>0.000019</td>\n",
              "      <td>0.000001</td>\n",
              "    </tr>\n",
              "    <tr>\n",
              "      <th>7</th>\n",
              "      <td>(1951292.875, 165557393.0]</td>\n",
              "      <td>12565</td>\n",
              "      <td>986.465101</td>\n",
              "      <td>0.125007</td>\n",
              "      <td>12394934.0</td>\n",
              "      <td>-12382369.0</td>\n",
              "      <td>0.142426</td>\n",
              "      <td>0.142446</td>\n",
              "      <td>-0.000141</td>\n",
              "      <td>41.677722</td>\n",
              "      <td>0.000041</td>\n",
              "      <td>0.000001</td>\n",
              "    </tr>\n",
              "  </tbody>\n",
              "</table>\n",
              "</div>"
            ],
            "text/plain": [
              "          AnnualIncome_factor  n_obs    prop_good  prop_n_obs      n_good  \\\n",
              "0     (76626.999, 723242.125]  12565  1164.168086    0.125007  14627772.0   \n",
              "1      (723242.125, 932425.0]  12567  1126.136628    0.125027  14152159.0   \n",
              "2     (932425.0, 1136867.375]  12561  1111.998806    0.124968  13967817.0   \n",
              "3    (1136867.375, 1174162.0]  22398   129.801411    0.222835   2907292.0   \n",
              "4      (1174162.0, 1232910.0]   2735  1059.188300    0.027210   2896880.0   \n",
              "5      (1232910.0, 1509968.0]  12562  1048.066630    0.124978  13165813.0   \n",
              "6    (1509968.0, 1951292.875]  12561  1028.142823    0.124968  12914502.0   \n",
              "7  (1951292.875, 165557393.0]  12565   986.465101    0.125007  12394934.0   \n",
              "\n",
              "        n_bad  prop_n_good  prop_n_bad       WoE  diff_prop_good  diff_WoE  \\\n",
              "0 -14615207.0     0.168083    0.168133 -0.000296             NaN       NaN   \n",
              "1 -14139592.0     0.162618    0.162661 -0.000267       38.031458  0.000029   \n",
              "2 -13955256.0     0.160499    0.160541 -0.000256       14.137822  0.000011   \n",
              "3  -2884894.0     0.033407    0.033188  0.006578      982.197395  0.006834   \n",
              "4  -2894145.0     0.033287    0.033294 -0.000211      929.386889  0.006789   \n",
              "5 -13153251.0     0.151284    0.151314 -0.000201       11.121670  0.000010   \n",
              "6 -12901941.0     0.148396    0.148423 -0.000183       19.923806  0.000019   \n",
              "7 -12382369.0     0.142426    0.142446 -0.000141       41.677722  0.000041   \n",
              "\n",
              "         IV  \n",
              "0  0.000001  \n",
              "1  0.000001  \n",
              "2  0.000001  \n",
              "3  0.000001  \n",
              "4  0.000001  \n",
              "5  0.000001  \n",
              "6  0.000001  \n",
              "7  0.000001  "
            ]
          },
          "metadata": {
            "tags": []
          },
          "execution_count": 162
        }
      ]
    },
    {
      "cell_type": "code",
      "metadata": {
        "colab": {
          "base_uri": "https://localhost:8080/",
          "height": 542
        },
        "id": "Any3fzzTCTcA",
        "outputId": "4bf72ee6-4ddf-4a01-dfc9-2d81e8bd829d"
      },
      "source": [
        "plot_WoE(df_temp , 90)"
      ],
      "execution_count": null,
      "outputs": [
        {
          "output_type": "display_data",
          "data": {
            "image/png": "[encoded data removed]",
            "text/plain": [
              "<Figure size 1296x432 with 1 Axes>"
            ]
          },
          "metadata": {
            "tags": []
          }
        }
      ]
    },
    {
      "cell_type": "code",
      "metadata": {
        "id": "ZqxmPtdpCTcB"
      },
      "source": [
        "# coarse classing:np.where((df_inputs_prepr['int_rate'] <= 9.548)\n",
        "# 0 - 1000, 1000-5000, 5000-7000, 7000-10000, 10000-20000, 20000-40000, >=40000\n",
        "\n",
        "train['AnnualIncome:76626.999, 723242.125'] = np.where((train['Annual Income'] <= 723242.125), 1, 0)\n",
        "train['AnnualIncome:723242.125, 932425.0'] = np.where((train['Annual Income'] > 723242.125) & (train['Annual Income'] <= 932425.0), 1, 0)\n",
        "train['AnnualIncome:932425.0, 1136867.375'] = np.where((train['Annual Income']> 932425.0) & (train['Annual Income'] <= 1136867.375), 1, 0)\n",
        "train['AnnualIncome:1136867.375, 1174162.0'] = np.where((train['Annual Income'] > 1136867.375) & (train['Annual Income'] <= 1174162.0), 1, 0)\n",
        "train['AnnualIncome:1174162.0, 1232910.0'] = np.where((train['Annual Income'] > 1174162.0) & (train['Annual Income'] <= 1232910.0), 1, 0)\n",
        "train['AnnualIncome:1232910.0, 1509968.0'] = np.where((train['Annual Income'] > 1232910.0) & (train['Annual Income'] <= 1509968.0), 1, 0)\n",
        "train['AnnualIncome:1509968.0, 1951292.875'] = np.where((train['Annual Income'] > 1509968.0) & (train['Annual Income'] <= 1951292.875), 1, 0)\n",
        "train['AnnualIncome:1951292.875, 165557393.0'] = np.where((train['Annual Income'] > 1951292.875) & (train['Annual Income'] <= 165557393.0), 1, 0)"
      ],
      "execution_count": null,
      "outputs": []
    },
    {
      "cell_type": "code",
      "metadata": {
        "id": "F7lLcQi0OmNj"
      },
      "source": [
        "test['AnnualIncome:76626.999, 723242.125'] = np.where((test['Annual Income'] <= 723242.125), 1, 0)\r\n",
        "test['AnnualIncome:723242.125, 932425.0'] = np.where((test['Annual Income'] > 723242.125) & (test['Annual Income'] <= 932425.0), 1, 0)\r\n",
        "test['AnnualIncome:932425.0, 1136867.375'] = np.where((test['Annual Income']> 932425.0) & (test['Annual Income'] <= 1136867.375), 1, 0)\r\n",
        "test['AnnualIncome:1136867.375, 1174162.0'] = np.where((test['Annual Income'] > 1136867.375) & (test['Annual Income'] <= 1174162.0), 1, 0)\r\n",
        "test['AnnualIncome:1174162.0, 1232910.0'] = np.where((test['Annual Income'] > 1174162.0) & (test['Annual Income'] <= 1232910.0), 1, 0)\r\n",
        "test['AnnualIncome:1232910.0, 1509968.0'] = np.where((test['Annual Income'] > 1232910.0) & (test['Annual Income'] <= 1509968.0), 1, 0)\r\n",
        "test['AnnualIncome:1509968.0, 1951292.875'] = np.where((test['Annual Income'] > 1509968.0) & (test['Annual Income'] <= 1951292.875), 1, 0)\r\n",
        "test['AnnualIncome:1951292.875, 165557393.0'] = np.where((test['Annual Income'] > 1951292.875) & (test['Annual Income'] <= 165557393.0), 1, 0)"
      ],
      "execution_count": null,
      "outputs": []
    },
    {
      "cell_type": "markdown",
      "metadata": {
        "id": "UGrnxMQxTLuv"
      },
      "source": [
        "**Maximum Open Credit**"
      ]
    },
    {
      "cell_type": "code",
      "metadata": {
        "colab": {
          "base_uri": "https://localhost:8080/",
          "height": 295
        },
        "id": "137yMaKibFeS",
        "outputId": "809a3246-ff0c-4700-f89a-6affc52049c8"
      },
      "source": [
        "train['Maximum Open Credit'].hist()"
      ],
      "execution_count": null,
      "outputs": [
        {
          "output_type": "execute_result",
          "data": {
            "text/plain": [
              "<matplotlib.axes._subplots.AxesSubplot at 0x7f3b49780a58>"
            ]
          },
          "metadata": {
            "tags": []
          },
          "execution_count": 166
        },
        {
          "output_type": "display_data",
          "data": {
            "image/png": "[encoded data removed]",
            "text/plain": [
              "<Figure size 432x288 with 1 Axes>"
            ]
          },
          "metadata": {
            "tags": []
          }
        }
      ]
    },
    {
      "cell_type": "code",
      "metadata": {
        "colab": {
          "base_uri": "https://localhost:8080/"
        },
        "id": "1IWVi_mQbU50",
        "outputId": "7216d4d1-f0bc-494a-cc86-72252a53a8fb"
      },
      "source": [
        "train['Maximum Open Credit'].describe()"
      ],
      "execution_count": null,
      "outputs": [
        {
          "output_type": "execute_result",
          "data": {
            "text/plain": [
              "count    1.005140e+05\n",
              "mean     7.592946e+05\n",
              "std      8.362980e+06\n",
              "min      0.000000e+00\n",
              "25%      2.745160e+05\n",
              "50%      4.678740e+05\n",
              "75%      7.804280e+05\n",
              "max      1.539738e+09\n",
              "Name: Maximum Open Credit, dtype: float64"
            ]
          },
          "metadata": {
            "tags": []
          },
          "execution_count": 167
        }
      ]
    },
    {
      "cell_type": "code",
      "metadata": {
        "id": "y0doyw5oT7Mq"
      },
      "source": [
        "train['Maximum_open_credit_factor'] = pd.qcut(train['Maximum Open Credit'], q=8)"
      ],
      "execution_count": null,
      "outputs": []
    },
    {
      "cell_type": "code",
      "metadata": {
        "colab": {
          "base_uri": "https://localhost:8080/"
        },
        "id": "90uUvenYULo3",
        "outputId": "ae9bd322-2ce9-4d4e-f7a6-c3e996329b62"
      },
      "source": [
        "train['Maximum_open_credit_factor'].value_counts().sort_values(axis=0, ascending=True)"
      ],
      "execution_count": null,
      "outputs": [
        {
          "output_type": "execute_result",
          "data": {
            "text/plain": [
              "(467874.0, 597635.5]          12305\n",
              "(274516.0, 365472.25]         12562\n",
              "(780428.0, 1107108.75]        12563\n",
              "(1107108.75, 1539737892.0]    12565\n",
              "(597635.5, 780428.0]          12565\n",
              "(-0.001, 182165.5]            12565\n",
              "(182165.5, 274516.0]          12566\n",
              "(365472.25, 467874.0]         12823\n",
              "Name: Maximum_open_credit_factor, dtype: int64"
            ]
          },
          "metadata": {
            "tags": []
          },
          "execution_count": 169
        }
      ]
    },
    {
      "cell_type": "code",
      "metadata": {
        "id": "673LiJg0btr0"
      },
      "source": [
        "df_temp = woe_continuous(train, 'Maximum_open_credit_factor', train['Credit Score'])"
      ],
      "execution_count": null,
      "outputs": []
    },
    {
      "cell_type": "code",
      "metadata": {
        "colab": {
          "base_uri": "https://localhost:8080/",
          "height": 297
        },
        "id": "bgnFcbS9bt3y",
        "outputId": "cb3fa4c4-3ad9-47e6-9d38-a5a4ad35dbc1"
      },
      "source": [
        "df_temp"
      ],
      "execution_count": null,
      "outputs": [
        {
          "output_type": "execute_result",
          "data": {
            "text/html": [
              "<div>\n",
              "<style scoped>\n",
              "    .dataframe tbody tr th:only-of-type {\n",
              "        vertical-align: middle;\n",
              "    }\n",
              "\n",
              "    .dataframe tbody tr th {\n",
              "        vertical-align: top;\n",
              "    }\n",
              "\n",
              "    .dataframe thead th {\n",
              "        text-align: right;\n",
              "    }\n",
              "</style>\n",
              "<table border=\"1\" class=\"dataframe\">\n",
              "  <thead>\n",
              "    <tr style=\"text-align: right;\">\n",
              "      <th></th>\n",
              "      <th>Maximum_open_credit_factor</th>\n",
              "      <th>n_obs</th>\n",
              "      <th>prop_good</th>\n",
              "      <th>prop_n_obs</th>\n",
              "      <th>n_good</th>\n",
              "      <th>n_bad</th>\n",
              "      <th>prop_n_good</th>\n",
              "      <th>prop_n_bad</th>\n",
              "      <th>WoE</th>\n",
              "      <th>diff_prop_good</th>\n",
              "      <th>diff_WoE</th>\n",
              "      <th>IV</th>\n",
              "    </tr>\n",
              "  </thead>\n",
              "  <tbody>\n",
              "    <tr>\n",
              "      <th>0</th>\n",
              "      <td>(-0.001, 182165.5]</td>\n",
              "      <td>12565</td>\n",
              "      <td>887.039395</td>\n",
              "      <td>0.125007</td>\n",
              "      <td>11145650.0</td>\n",
              "      <td>-11133085.0</td>\n",
              "      <td>0.128071</td>\n",
              "      <td>0.128074</td>\n",
              "      <td>-0.000028</td>\n",
              "      <td>NaN</td>\n",
              "      <td>NaN</td>\n",
              "      <td>1.065377e-09</td>\n",
              "    </tr>\n",
              "    <tr>\n",
              "      <th>1</th>\n",
              "      <td>(182165.5, 274516.0]</td>\n",
              "      <td>12566</td>\n",
              "      <td>871.071065</td>\n",
              "      <td>0.125017</td>\n",
              "      <td>10945879.0</td>\n",
              "      <td>-10933313.0</td>\n",
              "      <td>0.125775</td>\n",
              "      <td>0.125776</td>\n",
              "      <td>-0.000007</td>\n",
              "      <td>15.968330</td>\n",
              "      <td>0.000021</td>\n",
              "      <td>1.065377e-09</td>\n",
              "    </tr>\n",
              "    <tr>\n",
              "      <th>2</th>\n",
              "      <td>(274516.0, 365472.25]</td>\n",
              "      <td>12562</td>\n",
              "      <td>893.359417</td>\n",
              "      <td>0.124978</td>\n",
              "      <td>11222381.0</td>\n",
              "      <td>-11209819.0</td>\n",
              "      <td>0.128953</td>\n",
              "      <td>0.128957</td>\n",
              "      <td>-0.000036</td>\n",
              "      <td>22.288353</td>\n",
              "      <td>0.000029</td>\n",
              "      <td>1.065377e-09</td>\n",
              "    </tr>\n",
              "    <tr>\n",
              "      <th>3</th>\n",
              "      <td>(365472.25, 467874.0]</td>\n",
              "      <td>12823</td>\n",
              "      <td>850.122436</td>\n",
              "      <td>0.127574</td>\n",
              "      <td>10901120.0</td>\n",
              "      <td>-10888297.0</td>\n",
              "      <td>0.125261</td>\n",
              "      <td>0.125258</td>\n",
              "      <td>0.000021</td>\n",
              "      <td>43.236981</td>\n",
              "      <td>0.000057</td>\n",
              "      <td>1.065377e-09</td>\n",
              "    </tr>\n",
              "    <tr>\n",
              "      <th>4</th>\n",
              "      <td>(467874.0, 597635.5]</td>\n",
              "      <td>12305</td>\n",
              "      <td>884.110849</td>\n",
              "      <td>0.122421</td>\n",
              "      <td>10878984.0</td>\n",
              "      <td>-10866679.0</td>\n",
              "      <td>0.125007</td>\n",
              "      <td>0.125010</td>\n",
              "      <td>-0.000024</td>\n",
              "      <td>33.988413</td>\n",
              "      <td>0.000045</td>\n",
              "      <td>1.065377e-09</td>\n",
              "    </tr>\n",
              "    <tr>\n",
              "      <th>5</th>\n",
              "      <td>(597635.5, 780428.0]</td>\n",
              "      <td>12565</td>\n",
              "      <td>876.116753</td>\n",
              "      <td>0.125007</td>\n",
              "      <td>11008407.0</td>\n",
              "      <td>-10995842.0</td>\n",
              "      <td>0.126494</td>\n",
              "      <td>0.126496</td>\n",
              "      <td>-0.000014</td>\n",
              "      <td>7.994096</td>\n",
              "      <td>0.000010</td>\n",
              "      <td>1.065377e-09</td>\n",
              "    </tr>\n",
              "    <tr>\n",
              "      <th>6</th>\n",
              "      <td>(780428.0, 1107108.75]</td>\n",
              "      <td>12563</td>\n",
              "      <td>849.298416</td>\n",
              "      <td>0.124988</td>\n",
              "      <td>10669736.0</td>\n",
              "      <td>-10657173.0</td>\n",
              "      <td>0.122602</td>\n",
              "      <td>0.122600</td>\n",
              "      <td>0.000022</td>\n",
              "      <td>26.818337</td>\n",
              "      <td>0.000036</td>\n",
              "      <td>1.065377e-09</td>\n",
              "    </tr>\n",
              "    <tr>\n",
              "      <th>7</th>\n",
              "      <td>(1107108.75, 1539737892.0]</td>\n",
              "      <td>12565</td>\n",
              "      <td>816.156944</td>\n",
              "      <td>0.125007</td>\n",
              "      <td>10255012.0</td>\n",
              "      <td>-10242447.0</td>\n",
              "      <td>0.117837</td>\n",
              "      <td>0.117829</td>\n",
              "      <td>0.000070</td>\n",
              "      <td>33.141472</td>\n",
              "      <td>0.000048</td>\n",
              "      <td>1.065377e-09</td>\n",
              "    </tr>\n",
              "  </tbody>\n",
              "</table>\n",
              "</div>"
            ],
            "text/plain": [
              "   Maximum_open_credit_factor  n_obs   prop_good  prop_n_obs      n_good  \\\n",
              "0          (-0.001, 182165.5]  12565  887.039395    0.125007  11145650.0   \n",
              "1        (182165.5, 274516.0]  12566  871.071065    0.125017  10945879.0   \n",
              "2       (274516.0, 365472.25]  12562  893.359417    0.124978  11222381.0   \n",
              "3       (365472.25, 467874.0]  12823  850.122436    0.127574  10901120.0   \n",
              "4        (467874.0, 597635.5]  12305  884.110849    0.122421  10878984.0   \n",
              "5        (597635.5, 780428.0]  12565  876.116753    0.125007  11008407.0   \n",
              "6      (780428.0, 1107108.75]  12563  849.298416    0.124988  10669736.0   \n",
              "7  (1107108.75, 1539737892.0]  12565  816.156944    0.125007  10255012.0   \n",
              "\n",
              "        n_bad  prop_n_good  prop_n_bad       WoE  diff_prop_good  diff_WoE  \\\n",
              "0 -11133085.0     0.128071    0.128074 -0.000028             NaN       NaN   \n",
              "1 -10933313.0     0.125775    0.125776 -0.000007       15.968330  0.000021   \n",
              "2 -11209819.0     0.128953    0.128957 -0.000036       22.288353  0.000029   \n",
              "3 -10888297.0     0.125261    0.125258  0.000021       43.236981  0.000057   \n",
              "4 -10866679.0     0.125007    0.125010 -0.000024       33.988413  0.000045   \n",
              "5 -10995842.0     0.126494    0.126496 -0.000014        7.994096  0.000010   \n",
              "6 -10657173.0     0.122602    0.122600  0.000022       26.818337  0.000036   \n",
              "7 -10242447.0     0.117837    0.117829  0.000070       33.141472  0.000048   \n",
              "\n",
              "             IV  \n",
              "0  1.065377e-09  \n",
              "1  1.065377e-09  \n",
              "2  1.065377e-09  \n",
              "3  1.065377e-09  \n",
              "4  1.065377e-09  \n",
              "5  1.065377e-09  \n",
              "6  1.065377e-09  \n",
              "7  1.065377e-09  "
            ]
          },
          "metadata": {
            "tags": []
          },
          "execution_count": 171
        }
      ]
    },
    {
      "cell_type": "code",
      "metadata": {
        "colab": {
          "base_uri": "https://localhost:8080/",
          "height": 542
        },
        "id": "7EdNedItbt_n",
        "outputId": "43cb2016-c073-4a91-ffbd-b9527d8d3771"
      },
      "source": [
        "plot_WoE(df_temp , 90)"
      ],
      "execution_count": null,
      "outputs": [
        {
          "output_type": "display_data",
          "data": {
            "image/png": "[encoded data removed]",
            "text/plain": [
              "<Figure size 1296x432 with 1 Axes>"
            ]
          },
          "metadata": {
            "tags": []
          }
        }
      ]
    },
    {
      "cell_type": "code",
      "metadata": {
        "id": "C2K0O7FWU698"
      },
      "source": [
        "train['Maximum_open_credit_factor:76626.999, 723242.125'] = np.where((train['Maximum Open Credit'] <= 182165.5), 1, 0)\r\n",
        "train['Maximum_open_credit_factor, >182165.5 <= 274516.0'] = np.where((train['Maximum Open Credit'] > 182165.5) & (train['Maximum Open Credit'] <= 274516.0), 1, 0)\r\n",
        "train['Maximum_open_credit_factor, >274516.0 <= 274516.0'] = np.where((train['Maximum Open Credit'] > 274516.0) & (train['Maximum Open Credit'] <= 365472.25), 1, 0)\r\n",
        "train['Maximum_open_credit_factor, >365472.25 <= 365472.25'] = np.where((train['Maximum Open Credit'] > 365472.25) & (train['Maximum Open Credit'] <= 467874.0), 1, 0)\r\n",
        "train['Maximum_open_credit_factor, >467874.0 <= 467874.0'] = np.where((train['Maximum Open Credit'] > 467874.0) & (train['Maximum Open Credit'] <= 597635.5), 1, 0)\r\n",
        "train['Maximum_open_credit_factor, >597635.5 <= 780428.0'] = np.where((train['Maximum Open Credit'] > 597635.5) & (train['Maximum Open Credit'] <= 780428.0), 1, 0)\r\n",
        "train['Maximum_open_credit_factor, >780428.0 <= 1107108.75'] = np.where((train['Maximum Open Credit'] > 780428.0) & (train['Maximum Open Credit'] <= 1107108.75), 1, 0)\r\n",
        "train['Maximum_open_credit_factor, >1107108.75 <= 1539737892.0'] = np.where((train['Maximum Open Credit'] > 1107108.75) & (train['Maximum Open Credit'] <= 1539737892.0), 1, 0)"
      ],
      "execution_count": null,
      "outputs": []
    },
    {
      "cell_type": "code",
      "metadata": {
        "id": "_OzDgNIZSOrn"
      },
      "source": [
        "test['Maximum_open_credit_factor:76626.999, 723242.125'] = np.where((test['Maximum Open Credit'] <= 182165.5), 1, 0)\r\n",
        "test['Maximum_open_credit_factor, >182165.5 <= 274516.0'] = np.where((test['Maximum Open Credit'] > 182165.5) & (test['Maximum Open Credit'] <= 274516.0), 1, 0)\r\n",
        "test['Maximum_open_credit_factor, >274516.0 <= 274516.0'] = np.where((test['Maximum Open Credit'] > 274516.0) & (test['Maximum Open Credit'] <= 365472.25), 1, 0)\r\n",
        "test['Maximum_open_credit_factor, >365472.25 <= 365472.25'] = np.where((test['Maximum Open Credit'] > 365472.25) & (test['Maximum Open Credit'] <= 467874.0), 1, 0)\r\n",
        "test['Maximum_open_credit_factor, >467874.0 <= 467874.0'] = np.where((test['Maximum Open Credit'] > 467874.0) & (test['Maximum Open Credit'] <= 597635.5), 1, 0)\r\n",
        "test['Maximum_open_credit_factor, >597635.5 <= 780428.0'] = np.where((test['Maximum Open Credit'] > 597635.5) & (test['Maximum Open Credit'] <= 780428.0), 1, 0)\r\n",
        "test['Maximum_open_credit_factor, >780428.0 <= 1107108.75'] = np.where((test['Maximum Open Credit'] > 780428.0) & (test['Maximum Open Credit'] <= 1107108.75), 1, 0)\r\n",
        "test['Maximum_open_credit_factor, >1107108.75 <= 1539737892.0'] = np.where((test['Maximum Open Credit'] > 1107108.75) & (test['Maximum Open Credit'] <= 1539737892.0), 1, 0)"
      ],
      "execution_count": null,
      "outputs": []
    },
    {
      "cell_type": "markdown",
      "metadata": {
        "id": "FceMxJM5YOi8"
      },
      "source": [
        "# ***Data Splitting***"
      ]
    },
    {
      "cell_type": "code",
      "metadata": {
        "colab": {
          "base_uri": "https://localhost:8080/"
        },
        "id": "AyhldQbgTTwG",
        "outputId": "28bbbd67-ca80-41d3-e465-bf38d6da24b8"
      },
      "source": [
        "#fine class generated columns\r\n",
        "factors_columns = train.filter(regex='factor').columns\r\n",
        "factors_columns"
      ],
      "execution_count": null,
      "outputs": [
        {
          "output_type": "execute_result",
          "data": {
            "text/plain": [
              "Index(['AnnualIncome_factor', 'Maximum_open_credit_factor',\n",
              "       'Maximum_open_credit_factor:76626.999, 723242.125',\n",
              "       'Maximum_open_credit_factor, >182165.5 <= 274516.0',\n",
              "       'Maximum_open_credit_factor, >274516.0 <= 274516.0',\n",
              "       'Maximum_open_credit_factor, >365472.25 <= 365472.25',\n",
              "       'Maximum_open_credit_factor, >467874.0 <= 467874.0',\n",
              "       'Maximum_open_credit_factor, >597635.5 <= 780428.0',\n",
              "       'Maximum_open_credit_factor, >780428.0 <= 1107108.75',\n",
              "       'Maximum_open_credit_factor, >1107108.75 <= 1539737892.0'],\n",
              "      dtype='object')"
            ]
          },
          "metadata": {
            "tags": []
          },
          "execution_count": 175
        }
      ]
    },
    {
      "cell_type": "code",
      "metadata": {
        "id": "e4C0pUYlogTR"
      },
      "source": [
        "to_drop = ['Loan Status','AnnualIncome_factor','Maximum_open_credit_factor' ]"
      ],
      "execution_count": null,
      "outputs": []
    },
    {
      "cell_type": "code",
      "metadata": {
        "id": "MQVHHQ8yY1RL"
      },
      "source": [
        "#data assignment\r\n",
        "X = train.drop(to_drop, 1, inplace=True)\r\n",
        "X = train.drop(['default_not'], axis=1)\r\n",
        "y = train['default_not']"
      ],
      "execution_count": null,
      "outputs": []
    },
    {
      "cell_type": "code",
      "metadata": {
        "id": "X-MpKzhVZci0"
      },
      "source": [
        "#stratified split\r\n",
        "X_train, X_valid, y_train, y_valid = train_test_split(X, y, test_size = 0.2, random_state = 42, stratify = y)"
      ],
      "execution_count": null,
      "outputs": []
    },
    {
      "cell_type": "code",
      "metadata": {
        "colab": {
          "base_uri": "https://localhost:8080/"
        },
        "id": "y3ci8mSrZf6a",
        "outputId": "51cf86b1-03af-4b70-8ea1-0e40e80c8204"
      },
      "source": [
        "#shape\r\n",
        "print(X_train.shape)\r\n",
        "print(y_train.shape)\r\n",
        "print(X_valid.shape)\r\n",
        "print(y_valid.shape)"
      ],
      "execution_count": null,
      "outputs": [
        {
          "output_type": "stream",
          "text": [
            "(80411, 48)\n",
            "(80411,)\n",
            "(20103, 48)\n",
            "(20103,)\n"
          ],
          "name": "stdout"
        }
      ]
    },
    {
      "cell_type": "markdown",
      "metadata": {
        "id": "QuM78ooigX6p"
      },
      "source": [
        "#### Multivariate Analysis"
      ]
    },
    {
      "cell_type": "code",
      "metadata": {
        "id": "PFOGHMZQZmka"
      },
      "source": [
        "def heatmap(data,figsize=(8,8), annot=False):\r\n",
        "    #plot heatmap to find multicollinearity\r\n",
        "    plt.figure(figsize=figsize)\r\n",
        "    cmap = sns.diverging_palette(220, 20, sep=20, as_cmap=True)\r\n",
        "    sns.heatmap(data.corr(),vmin=-0.75,vmax=0.75,center=0, cmap=cmap,annot=annot);"
      ],
      "execution_count": null,
      "outputs": []
    },
    {
      "cell_type": "code",
      "metadata": {
        "colab": {
          "base_uri": "https://localhost:8080/",
          "height": 1000
        },
        "id": "drHWndu8gS2m",
        "outputId": "98b03688-834c-494c-c9f7-2f12c278b15d"
      },
      "source": [
        "heatmap(X,figsize=(14,14))"
      ],
      "execution_count": null,
      "outputs": [
        {
          "output_type": "display_data",
          "data": {
            "image/png": "[encoded data removed]",
            "text/plain": [
              "<Figure size 1008x1008 with 2 Axes>"
            ]
          },
          "metadata": {
            "tags": []
          }
        }
      ]
    },
    {
      "cell_type": "markdown",
      "metadata": {
        "id": "37fOImf8ghH6"
      },
      "source": [
        "# ***Modeling***"
      ]
    },
    {
      "cell_type": "code",
      "metadata": {
        "id": "Fcxkj-0BgVKr"
      },
      "source": [
        "# We plot the false positive rate along the x-axis and the true positive rate along the y-axis,\r\n",
        "def plot_roc(y_valid, y_pred_proba):\r\n",
        "  fpr, tpr, thresholds = roc_curve(y_valid, y_pred_proba)\r\n",
        "  plt.plot(fpr, tpr)\r\n",
        "  plt.plot(fpr, fpr, linestyle = '--', color = 'k')\r\n",
        "  plt.xlabel('False positive rate')\r\n",
        "  plt.ylabel('True positive rate')\r\n",
        "  plt.title('ROC curve')"
      ],
      "execution_count": null,
      "outputs": []
    },
    {
      "cell_type": "markdown",
      "metadata": {
        "id": "Fjd3JYHEgm2s"
      },
      "source": [
        "## Logistic Regression"
      ]
    },
    {
      "cell_type": "code",
      "metadata": {
        "id": "CZDtv-lDgjyW"
      },
      "source": [
        "lr = LogisticRegression(max_iter=300)"
      ],
      "execution_count": null,
      "outputs": []
    },
    {
      "cell_type": "code",
      "metadata": {
        "colab": {
          "base_uri": "https://localhost:8080/"
        },
        "id": "0W3fkxW8grZN",
        "outputId": "50d26739-bcef-4b71-eee8-db1280562ef6"
      },
      "source": [
        "lr.fit(X_train, y_train)"
      ],
      "execution_count": null,
      "outputs": [
        {
          "output_type": "execute_result",
          "data": {
            "text/plain": [
              "LogisticRegression(C=1.0, class_weight=None, dual=False, fit_intercept=True,\n",
              "                   intercept_scaling=1, l1_ratio=None, max_iter=300,\n",
              "                   multi_class='auto', n_jobs=None, penalty='l2',\n",
              "                   random_state=None, solver='lbfgs', tol=0.0001, verbose=0,\n",
              "                   warm_start=False)"
            ]
          },
          "metadata": {
            "tags": []
          },
          "execution_count": 189
        }
      ]
    },
    {
      "cell_type": "code",
      "metadata": {
        "id": "g98UujwNgslH"
      },
      "source": [
        "y_pred = lr.predict(X_valid)"
      ],
      "execution_count": null,
      "outputs": []
    },
    {
      "cell_type": "code",
      "metadata": {
        "id": "bf9rUwOhqVGN"
      },
      "source": [
        "y_pred_proba = lr.predict_proba(X_valid)\r\n",
        "y_pred_proba = y_pred_proba[: ][: , 1]"
      ],
      "execution_count": null,
      "outputs": []
    },
    {
      "cell_type": "code",
      "metadata": {
        "colab": {
          "base_uri": "https://localhost:8080/"
        },
        "id": "JVP_yvdYqXFA",
        "outputId": "fa6e1d87-d1d1-4756-d154-2b54a761a42a"
      },
      "source": [
        "print(classification_report(y_valid, y_pred))"
      ],
      "execution_count": null,
      "outputs": [
        {
          "output_type": "stream",
          "text": [
            "              precision    recall  f1-score   support\n",
            "\n",
            "           0       0.81      1.00      0.89     15575\n",
            "           1       0.93      0.21      0.34      4528\n",
            "\n",
            "    accuracy                           0.82     20103\n",
            "   macro avg       0.87      0.60      0.62     20103\n",
            "weighted avg       0.84      0.82      0.77     20103\n",
            "\n"
          ],
          "name": "stdout"
        }
      ]
    },
    {
      "cell_type": "code",
      "metadata": {
        "id": "yNkHR9IfqtOE"
      },
      "source": [
        "from sklearn import metrics\r\n",
        "from sklearn.metrics import roc_curve, roc_auc_score"
      ],
      "execution_count": null,
      "outputs": []
    },
    {
      "cell_type": "code",
      "metadata": {
        "colab": {
          "base_uri": "https://localhost:8080/",
          "height": 406
        },
        "id": "x7j4BfDSqZNh",
        "outputId": "768829c7-c847-4ca5-ca0d-ddde928af0e3"
      },
      "source": [
        "cm = metrics.confusion_matrix(y_valid, y_pred)\r\n",
        "plt.figure(figsize=(8,6))\r\n",
        "sns.heatmap(cm, annot=True, fmt=\".2f\", linewidths=.5, square =True, cmap = 'Blues_r');\r\n",
        "plt.ylabel('Actual label')\r\n",
        "plt.xlabel('Predicted label')\r\n",
        "all_sample_title = 'Confusion Matrix'\r\n",
        "plt.title(all_sample_title, size = 15)\r\n",
        "plt.show()"
      ],
      "execution_count": null,
      "outputs": [
        {
          "output_type": "display_data",
          "data": {
            "image/png": "[encoded data removed]",
            "text/plain": [
              "<Figure size 576x432 with 2 Axes>"
            ]
          },
          "metadata": {
            "tags": []
          }
        }
      ]
    },
    {
      "cell_type": "code",
      "metadata": {
        "colab": {
          "base_uri": "https://localhost:8080/",
          "height": 295
        },
        "id": "QmhQDvcHqdwV",
        "outputId": "1ee53318-c151-4441-f8d5-8b8d51354bf5"
      },
      "source": [
        "plot_roc(y_valid, y_pred_proba)"
      ],
      "execution_count": null,
      "outputs": [
        {
          "output_type": "display_data",
          "data": {
            "image/png": "[encoded data removed]",
            "text/plain": [
              "<Figure size 432x288 with 1 Axes>"
            ]
          },
          "metadata": {
            "tags": []
          }
        }
      ]
    },
    {
      "cell_type": "code",
      "metadata": {
        "colab": {
          "base_uri": "https://localhost:8080/"
        },
        "id": "_3Rp42Gaqxb-",
        "outputId": "c6260c0c-ab13-4f09-ccde-efbb9e445d5d"
      },
      "source": [
        "roc_auc_score(y_valid, y_pred_proba)"
      ],
      "execution_count": null,
      "outputs": [
        {
          "output_type": "execute_result",
          "data": {
            "text/plain": [
              "0.6823319002433228"
            ]
          },
          "metadata": {
            "tags": []
          },
          "execution_count": 199
        }
      ]
    },
    {
      "cell_type": "markdown",
      "metadata": {
        "id": "H7R1z_wf5SAS"
      },
      "source": [
        ""
      ]
    },
    {
      "cell_type": "code",
      "metadata": {
        "id": "ixcZvko7q76o"
      },
      "source": [
        "rf = RandomForestClassifier(n_estimators=500)"
      ],
      "execution_count": null,
      "outputs": []
    },
    {
      "cell_type": "code",
      "metadata": {
        "colab": {
          "base_uri": "https://localhost:8080/"
        },
        "id": "1PfMnMuhrDwT",
        "outputId": "ededda6e-ee39-4347-cb84-1ccc3a6d4c0f"
      },
      "source": [
        "rf.fit(X_train, y_train)"
      ],
      "execution_count": null,
      "outputs": [
        {
          "output_type": "execute_result",
          "data": {
            "text/plain": [
              "RandomForestClassifier(bootstrap=True, ccp_alpha=0.0, class_weight=None,\n",
              "                       criterion='gini', max_depth=None, max_features='auto',\n",
              "                       max_leaf_nodes=None, max_samples=None,\n",
              "                       min_impurity_decrease=0.0, min_impurity_split=None,\n",
              "                       min_samples_leaf=1, min_samples_split=2,\n",
              "                       min_weight_fraction_leaf=0.0, n_estimators=500,\n",
              "                       n_jobs=None, oob_score=False, random_state=None,\n",
              "                       verbose=0, warm_start=False)"
            ]
          },
          "metadata": {
            "tags": []
          },
          "execution_count": 204
        }
      ]
    },
    {
      "cell_type": "code",
      "metadata": {
        "id": "sX6hRoUerHQ7"
      },
      "source": [
        "rf_pred_proba = rf.predict_proba(X_valid)"
      ],
      "execution_count": null,
      "outputs": []
    },
    {
      "cell_type": "code",
      "metadata": {
        "id": "XPDd7XR9rJqh"
      },
      "source": [
        "rf_pred = rf.predict(X_valid)"
      ],
      "execution_count": null,
      "outputs": []
    },
    {
      "cell_type": "code",
      "metadata": {
        "id": "ROPlQMFgrcx8"
      },
      "source": [
        "rf_pred_proba = rf_pred_proba[: ][: , 1]\r\n"
      ],
      "execution_count": null,
      "outputs": []
    },
    {
      "cell_type": "code",
      "metadata": {
        "colab": {
          "base_uri": "https://localhost:8080/"
        },
        "id": "mv1w7ZwYrjao",
        "outputId": "43629f30-d128-402f-c38e-d8a66b5cb23d"
      },
      "source": [
        "print(classification_report(y_valid, rf_pred))"
      ],
      "execution_count": null,
      "outputs": [
        {
          "output_type": "stream",
          "text": [
            "              precision    recall  f1-score   support\n",
            "\n",
            "           0       0.82      0.99      0.90     15575\n",
            "           1       0.89      0.23      0.37      4528\n",
            "\n",
            "    accuracy                           0.82     20103\n",
            "   macro avg       0.86      0.61      0.63     20103\n",
            "weighted avg       0.83      0.82      0.78     20103\n",
            "\n"
          ],
          "name": "stdout"
        }
      ]
    },
    {
      "cell_type": "code",
      "metadata": {
        "colab": {
          "base_uri": "https://localhost:8080/",
          "height": 406
        },
        "id": "PLqabdaGrzoz",
        "outputId": "9b575e9c-d14d-49a9-eab4-eaf8ea969272"
      },
      "source": [
        "cm = metrics.confusion_matrix(y_valid, rf_pred)\r\n",
        "plt.figure(figsize=(8,6))\r\n",
        "sns.heatmap(cm, annot=True, fmt=\".2f\", linewidths=.5, square =True, cmap = 'Blues_r');\r\n",
        "plt.ylabel('Actual label')\r\n",
        "plt.xlabel('Predicted label')\r\n",
        "all_sample_title = 'Confusion Matrix'\r\n",
        "plt.title(all_sample_title, size = 15)\r\n",
        "plt.show()"
      ],
      "execution_count": null,
      "outputs": [
        {
          "output_type": "display_data",
          "data": {
            "image/png": "[encoded data removed]",
            "text/plain": [
              "<Figure size 576x432 with 2 Axes>"
            ]
          },
          "metadata": {
            "tags": []
          }
        }
      ]
    },
    {
      "cell_type": "code",
      "metadata": {
        "colab": {
          "base_uri": "https://localhost:8080/",
          "height": 295
        },
        "id": "kTaWR3jcr2-j",
        "outputId": "76ae8a9d-266d-46ea-90d9-500970986f61"
      },
      "source": [
        "plot_roc(y_valid, rf_pred_proba)"
      ],
      "execution_count": null,
      "outputs": [
        {
          "output_type": "display_data",
          "data": {
            "image/png": "[encoded data removed]",
            "text/plain": [
              "<Figure size 432x288 with 1 Axes>"
            ]
          },
          "metadata": {
            "tags": []
          }
        }
      ]
    },
    {
      "cell_type": "code",
      "metadata": {
        "colab": {
          "base_uri": "https://localhost:8080/"
        },
        "id": "hFciVg7Fr5iC",
        "outputId": "ac47768a-a42b-4a82-d771-2cc0912a7790"
      },
      "source": [
        "roc_auc_score(y_valid, rf_pred_proba)"
      ],
      "execution_count": null,
      "outputs": [
        {
          "output_type": "execute_result",
          "data": {
            "text/plain": [
              "0.8106685067126466"
            ]
          },
          "metadata": {
            "tags": []
          },
          "execution_count": 211
        }
      ]
    },
    {
      "cell_type": "markdown",
      "metadata": {
        "id": "PRmBCZKYsFNX"
      },
      "source": [
        "## Cross Validation and Algorithm Comparison"
      ]
    },
    {
      "cell_type": "code",
      "metadata": {
        "id": "mjLFRxkqr71e"
      },
      "source": [
        ""
      ],
      "execution_count": null,
      "outputs": []
    },
    {
      "cell_type": "code",
      "metadata": {
        "id": "8yHMnhTMsKV2"
      },
      "source": [
        "lr = LogisticRegression(C=0.2, max_iter=300, solver='liblinear', penalty='l1')\r\n",
        "rf = RandomForestClassifier(n_estimators=500, random_state=10 , min_samples_leaf=2, max_depth=10, min_samples_split=3)"
      ],
      "execution_count": null,
      "outputs": []
    },
    {
      "cell_type": "code",
      "metadata": {
        "colab": {
          "base_uri": "https://localhost:8080/"
        },
        "id": "xAdtxJ9CsSf1",
        "outputId": "1a9d59ba-038a-4359-d0ca-03eabca870a0"
      },
      "source": [
        "scoring = 'roc_auc'\r\n",
        "models = []\r\n",
        "models.append(('LR', lr))\r\n",
        "models.append(('RFG', rf))\r\n",
        "names = []\r\n",
        "results = []\r\n",
        "for name, model in models:\r\n",
        "    kfold = StratifiedKFold(n_splits=3, shuffle=True , random_state = 47)\r\n",
        "    cv_results = cross_val_score(model, X, y, cv=kfold, scoring=scoring)\r\n",
        "    results.append(cv_results)\r\n",
        "    names.append(name)\r\n",
        "    msg = \"%s: %f (%f)\" % (name, cv_results.mean(), cv_results.std())\r\n",
        "    print(msg)"
      ],
      "execution_count": null,
      "outputs": [
        {
          "output_type": "stream",
          "text": [
            "LR: 0.740074 (0.003441)\n",
            "RFG: 0.755273 (0.003086)\n"
          ],
          "name": "stdout"
        }
      ]
    },
    {
      "cell_type": "code",
      "metadata": {
        "colab": {
          "base_uri": "https://localhost:8080/",
          "height": 540
        },
        "id": "4NQmU8CLsWnb",
        "outputId": "21d21782-5ff0-44b4-9072-2401d9466ad7"
      },
      "source": [
        "# Compare Algorithms\r\n",
        "fig = plt.figure(figsize=(10,8))\r\n",
        "fig.suptitle('Algorithm Comparison')\r\n",
        "ax = fig.add_subplot(111)\r\n",
        "plt.boxplot(results)\r\n",
        "ax.set_xticklabels(names)\r\n",
        "plt.show()"
      ],
      "execution_count": null,
      "outputs": [
        {
          "output_type": "display_data",
          "data": {
            "image/png": "[encoded data removed]",
            "text/plain": [
              "<Figure size 720x576 with 1 Axes>"
            ]
          },
          "metadata": {
            "tags": []
          }
        }
      ]
    },
    {
      "cell_type": "markdown",
      "metadata": {
        "id": "-RGUtPLnseTc"
      },
      "source": [
        "Best Perfromance on Single Split"
      ]
    },
    {
      "cell_type": "code",
      "metadata": {
        "colab": {
          "base_uri": "https://localhost:8080/"
        },
        "id": "wFNEs5ZVse0N",
        "outputId": "0b6ebba8-4ad5-4604-fbc4-2a3b536d98ac"
      },
      "source": [
        "rf.fit(X_train, y_train)"
      ],
      "execution_count": null,
      "outputs": [
        {
          "output_type": "execute_result",
          "data": {
            "text/plain": [
              "RandomForestClassifier(bootstrap=True, ccp_alpha=0.0, class_weight=None,\n",
              "                       criterion='gini', max_depth=10, max_features='auto',\n",
              "                       max_leaf_nodes=None, max_samples=None,\n",
              "                       min_impurity_decrease=0.0, min_impurity_split=None,\n",
              "                       min_samples_leaf=2, min_samples_split=3,\n",
              "                       min_weight_fraction_leaf=0.0, n_estimators=500,\n",
              "                       n_jobs=None, oob_score=False, random_state=10, verbose=0,\n",
              "                       warm_start=False)"
            ]
          },
          "metadata": {
            "tags": []
          },
          "execution_count": 216
        }
      ]
    },
    {
      "cell_type": "code",
      "metadata": {
        "id": "nqTn2y3fsqT8"
      },
      "source": [
        "y_pred = rf.predict(X_valid)"
      ],
      "execution_count": null,
      "outputs": []
    },
    {
      "cell_type": "code",
      "metadata": {
        "id": "idyED4dOss6B"
      },
      "source": [
        "y_pred_proba = rf.predict_proba(X_valid)\r\n",
        "y_pred_proba = y_pred_proba[: ][: , 1]"
      ],
      "execution_count": null,
      "outputs": []
    },
    {
      "cell_type": "code",
      "metadata": {
        "colab": {
          "base_uri": "https://localhost:8080/"
        },
        "id": "Drwn11qPsv8N",
        "outputId": "c7d5a2c1-1cc7-49c1-a0b2-8eb2fdfd4a42"
      },
      "source": [
        "roc_auc_score(y_valid, y_pred_proba)"
      ],
      "execution_count": null,
      "outputs": [
        {
          "output_type": "execute_result",
          "data": {
            "text/plain": [
              "0.7581155244485533"
            ]
          },
          "metadata": {
            "tags": []
          },
          "execution_count": 219
        }
      ]
    },
    {
      "cell_type": "markdown",
      "metadata": {
        "id": "bnjRbuiHtg5l"
      },
      "source": [
        "## Imbalanced Classification Problem"
      ]
    },
    {
      "cell_type": "code",
      "metadata": {
        "id": "XDG96nT5tFru"
      },
      "source": [
        ""
      ],
      "execution_count": null,
      "outputs": []
    },
    {
      "cell_type": "code",
      "metadata": {
        "id": "HzW2Afmttwv8"
      },
      "source": [
        "samp = RandomOverSampler()"
      ],
      "execution_count": null,
      "outputs": []
    },
    {
      "cell_type": "code",
      "metadata": {
        "colab": {
          "base_uri": "https://localhost:8080/"
        },
        "id": "7-eJkP0GtysV",
        "outputId": "ec68d2d7-e5a2-4b9e-b66f-d569f9a90f08"
      },
      "source": [
        "y_train.value_counts()"
      ],
      "execution_count": null,
      "outputs": [
        {
          "output_type": "execute_result",
          "data": {
            "text/plain": [
              "0    62300\n",
              "1    18111\n",
              "Name: default_not, dtype: int64"
            ]
          },
          "metadata": {
            "tags": []
          },
          "execution_count": 222
        }
      ]
    },
    {
      "cell_type": "code",
      "metadata": {
        "colab": {
          "base_uri": "https://localhost:8080/"
        },
        "id": "79OYwJv3t80n",
        "outputId": "78506baa-e89f-462c-e148-d34e0befc61e"
      },
      "source": [
        "X_train_resampled, y_train_resampled = samp.fit_resample(X_train, y_train)"
      ],
      "execution_count": null,
      "outputs": [
        {
          "output_type": "stream",
          "text": [
            "/usr/local/lib/python3.6/dist-packages/sklearn/utils/deprecation.py:87: FutureWarning: Function safe_indexing is deprecated; safe_indexing is deprecated in version 0.22 and will be removed in version 0.24.\n",
            "  warnings.warn(msg, category=FutureWarning)\n"
          ],
          "name": "stderr"
        }
      ]
    },
    {
      "cell_type": "code",
      "metadata": {
        "colab": {
          "base_uri": "https://localhost:8080/"
        },
        "id": "xwh8qqG3uAlW",
        "outputId": "ea4042ed-78c2-4fbb-bb4d-8adfc5cfc529"
      },
      "source": [
        "print(sorted(Counter(y_train_resampled).items()))"
      ],
      "execution_count": null,
      "outputs": [
        {
          "output_type": "stream",
          "text": [
            "[(0, 62300), (1, 62300)]\n"
          ],
          "name": "stdout"
        }
      ]
    },
    {
      "cell_type": "code",
      "metadata": {
        "colab": {
          "base_uri": "https://localhost:8080/"
        },
        "id": "7DlX1Me3uCv8",
        "outputId": "2c1c4970-3f5c-472b-e4b9-b9aa42de0041"
      },
      "source": [
        "rf.fit(X_train_resampled, y_train_resampled)"
      ],
      "execution_count": null,
      "outputs": [
        {
          "output_type": "execute_result",
          "data": {
            "text/plain": [
              "RandomForestClassifier(bootstrap=True, ccp_alpha=0.0, class_weight=None,\n",
              "                       criterion='gini', max_depth=10, max_features='auto',\n",
              "                       max_leaf_nodes=None, max_samples=None,\n",
              "                       min_impurity_decrease=0.0, min_impurity_split=None,\n",
              "                       min_samples_leaf=2, min_samples_split=3,\n",
              "                       min_weight_fraction_leaf=0.0, n_estimators=500,\n",
              "                       n_jobs=None, oob_score=False, random_state=10, verbose=0,\n",
              "                       warm_start=False)"
            ]
          },
          "metadata": {
            "tags": []
          },
          "execution_count": 227
        }
      ]
    },
    {
      "cell_type": "code",
      "metadata": {
        "id": "HlfIZjmPuVLo"
      },
      "source": [
        "y_pred_proba = rf.predict_proba(X_valid)\r\n",
        "y_pred_proba = y_pred_proba[: ][: , 1]"
      ],
      "execution_count": null,
      "outputs": []
    },
    {
      "cell_type": "code",
      "metadata": {
        "id": "AZLYbQdOua2f"
      },
      "source": [
        "y_pred = rf.predict(X_valid)"
      ],
      "execution_count": null,
      "outputs": []
    },
    {
      "cell_type": "code",
      "metadata": {
        "colab": {
          "base_uri": "https://localhost:8080/"
        },
        "id": "S4ylB48JukT8",
        "outputId": "5bc13ce8-1227-459d-cf92-05569f2b4b34"
      },
      "source": [
        "roc_auc_score(y_valid, y_pred_proba)"
      ],
      "execution_count": null,
      "outputs": [
        {
          "output_type": "execute_result",
          "data": {
            "text/plain": [
              "0.7573305389968749"
            ]
          },
          "metadata": {
            "tags": []
          },
          "execution_count": 230
        }
      ]
    },
    {
      "cell_type": "markdown",
      "metadata": {
        "id": "SZ57ds65urQv"
      },
      "source": [
        "Its obvious Oversampling didn't help out score to improve"
      ]
    },
    {
      "cell_type": "markdown",
      "metadata": {
        "id": "FLVNrHRWu2BK"
      },
      "source": [
        "# ***Model Selection and Evaluation***"
      ]
    },
    {
      "cell_type": "code",
      "metadata": {
        "colab": {
          "base_uri": "https://localhost:8080/"
        },
        "id": "Lugvw7DWuo5L",
        "outputId": "9196371b-d258-4155-ee3d-70054fc6e81c"
      },
      "source": [
        "rf.fit(X_train, y_train)"
      ],
      "execution_count": null,
      "outputs": [
        {
          "output_type": "execute_result",
          "data": {
            "text/plain": [
              "RandomForestClassifier(bootstrap=True, ccp_alpha=0.0, class_weight=None,\n",
              "                       criterion='gini', max_depth=10, max_features='auto',\n",
              "                       max_leaf_nodes=None, max_samples=None,\n",
              "                       min_impurity_decrease=0.0, min_impurity_split=None,\n",
              "                       min_samples_leaf=2, min_samples_split=3,\n",
              "                       min_weight_fraction_leaf=0.0, n_estimators=500,\n",
              "                       n_jobs=None, oob_score=False, random_state=10, verbose=0,\n",
              "                       warm_start=False)"
            ]
          },
          "metadata": {
            "tags": []
          },
          "execution_count": 231
        }
      ]
    },
    {
      "cell_type": "code",
      "metadata": {
        "id": "NCaBB9v8u-on"
      },
      "source": [
        "y_pred = rf.predict(X_valid) \r\n",
        "y_pred_proba = rf.predict_proba(X_valid)\r\n",
        "y_pred_proba = y_pred_proba[: ][: , 1]"
      ],
      "execution_count": null,
      "outputs": []
    },
    {
      "cell_type": "markdown",
      "metadata": {
        "id": "12ejL2ztvIDv"
      },
      "source": [
        "#### Decision Boundary and Confusion Matrix"
      ]
    },
    {
      "cell_type": "code",
      "metadata": {
        "colab": {
          "base_uri": "https://localhost:8080/",
          "height": 406
        },
        "id": "VgTX8zf6vHSv",
        "outputId": "6a270e86-2c6c-4d2a-c4ce-6184c213c492"
      },
      "source": [
        "cm = metrics.confusion_matrix(y_valid, y_pred)\r\n",
        "plt.figure(figsize=(8,6))\r\n",
        "sns.heatmap(cm, annot=True, fmt=\".2f\", linewidths=.5, square =True, cmap = 'Blues_r');\r\n",
        "plt.ylabel('Actual label')\r\n",
        "plt.xlabel('Predicted label')\r\n",
        "all_sample_title = 'Confusion Matrix'\r\n",
        "plt.title(all_sample_title, size = 15)\r\n",
        "plt.show()"
      ],
      "execution_count": null,
      "outputs": [
        {
          "output_type": "display_data",
          "data": {
            "image/png": "[encoded data removed]",
            "text/plain": [
              "<Figure size 576x432 with 2 Axes>"
            ]
          },
          "metadata": {
            "tags": []
          }
        }
      ]
    },
    {
      "cell_type": "code",
      "metadata": {
        "colab": {
          "base_uri": "https://localhost:8080/"
        },
        "id": "GUs7e4ruvPBw",
        "outputId": "a85c0b38-d03a-438b-886f-5452d87e3d7d"
      },
      "source": [
        "print(classification_report(y_valid, y_pred))"
      ],
      "execution_count": null,
      "outputs": [
        {
          "output_type": "stream",
          "text": [
            "              precision    recall  f1-score   support\n",
            "\n",
            "           0       0.81      1.00      0.90     15575\n",
            "           1       1.00      0.21      0.34      4528\n",
            "\n",
            "    accuracy                           0.82     20103\n",
            "   macro avg       0.91      0.60      0.62     20103\n",
            "weighted avg       0.85      0.82      0.77     20103\n",
            "\n"
          ],
          "name": "stdout"
        }
      ]
    },
    {
      "cell_type": "code",
      "metadata": {
        "colab": {
          "base_uri": "https://localhost:8080/",
          "height": 406
        },
        "id": "oRwchOtWvSlt",
        "outputId": "2d2b8756-06d6-40a2-81a7-e5a37dc389c7"
      },
      "source": [
        "predictions = pd.concat([pd.DataFrame(y_pred), pd.DataFrame(y_pred_proba)], axis = 1)\r\n",
        "predictions.columns = ['y_pred', 'y_pred_proba']\r\n",
        "\r\n",
        "tr = 0.4\r\n",
        "# a new column with an indicator,\r\n",
        "# where every observation that has predicted probability greater than the threshold has a value of 1,\r\n",
        "# and every observation that has predicted probability lower than the threshold has a value of 0.\r\n",
        "predictions['y_pred'] = np.where(predictions['y_pred_proba'] > tr, 1, 0)\r\n",
        "\r\n",
        "cm = metrics.confusion_matrix(y_valid, predictions['y_pred'])\r\n",
        "plt.figure(figsize=(8,6))\r\n",
        "sns.heatmap(cm, annot=True, fmt=\".2f\", linewidths=.5, square =True, cmap = 'Blues_r');\r\n",
        "plt.ylabel('Actual label')\r\n",
        "plt.xlabel('Predicted label')\r\n",
        "all_sample_title = 'Confusion Matrix'\r\n",
        "plt.title(all_sample_title, size = 15)\r\n",
        "plt.show()"
      ],
      "execution_count": null,
      "outputs": [
        {
          "output_type": "display_data",
          "data": {
            "image/png": "[encoded data removed]",
            "text/plain": [
              "<Figure size 576x432 with 2 Axes>"
            ]
          },
          "metadata": {
            "tags": []
          }
        }
      ]
    },
    {
      "cell_type": "code",
      "metadata": {
        "colab": {
          "base_uri": "https://localhost:8080/"
        },
        "id": "dIjhgV_Oveql",
        "outputId": "7e20055a-bdcc-4380-9453-1ae21ad5f5cf"
      },
      "source": [
        "print(classification_report(y_valid, predictions['y_pred']))"
      ],
      "execution_count": null,
      "outputs": [
        {
          "output_type": "stream",
          "text": [
            "              precision    recall  f1-score   support\n",
            "\n",
            "           0       0.81      1.00      0.90     15575\n",
            "           1       0.95      0.22      0.36      4528\n",
            "\n",
            "    accuracy                           0.82     20103\n",
            "   macro avg       0.88      0.61      0.63     20103\n",
            "weighted avg       0.84      0.82      0.78     20103\n",
            "\n"
          ],
          "name": "stdout"
        }
      ]
    },
    {
      "cell_type": "markdown",
      "metadata": {
        "id": "bG5x9kOavnXc"
      },
      "source": [
        "#### ROC Curve"
      ]
    },
    {
      "cell_type": "code",
      "metadata": {
        "colab": {
          "base_uri": "https://localhost:8080/",
          "height": 295
        },
        "id": "fCHWd3C4vin0",
        "outputId": "c01e39f2-30cf-443e-960a-b193599eac18"
      },
      "source": [
        "plot_roc(y_valid, y_pred_proba)"
      ],
      "execution_count": null,
      "outputs": [
        {
          "output_type": "display_data",
          "data": {
            "image/png": "[encoded data removed]",
            "text/plain": [
              "<Figure size 432x288 with 1 Axes>"
            ]
          },
          "metadata": {
            "tags": []
          }
        }
      ]
    },
    {
      "cell_type": "markdown",
      "metadata": {
        "id": "d9Jav4nLvs5h"
      },
      "source": [
        "#### AUC score and Gini "
      ]
    },
    {
      "cell_type": "code",
      "metadata": {
        "colab": {
          "base_uri": "https://localhost:8080/"
        },
        "id": "UcEmQvMpvptD",
        "outputId": "540ab950-1051-4b7e-a0a9-a336f6f138fe"
      },
      "source": [
        "AUC_score = roc_auc_score(y_valid, y_pred_proba)\r\n",
        "print(\"AUC Score: \", AUC_score)"
      ],
      "execution_count": null,
      "outputs": [
        {
          "output_type": "stream",
          "text": [
            "AUC Score:  0.7581155244485533\n"
          ],
          "name": "stdout"
        }
      ]
    },
    {
      "cell_type": "code",
      "metadata": {
        "colab": {
          "base_uri": "https://localhost:8080/"
        },
        "id": "JLcziKAHvvhd",
        "outputId": "e00897cd-ddc3-495d-be60-795a186dfc05"
      },
      "source": [
        "Gini = AUC_score * 2 - 1\r\n",
        "# Here we calculate Gini from AUROC.\r\n",
        "print(\"Gini Coefficient: \", Gini)"
      ],
      "execution_count": null,
      "outputs": [
        {
          "output_type": "stream",
          "text": [
            "Gini Coefficient:  0.5162310488971067\n"
          ],
          "name": "stdout"
        }
      ]
    },
    {
      "cell_type": "markdown",
      "metadata": {
        "id": "uYkwfj8RwLtF"
      },
      "source": [
        "# **Predictions**"
      ]
    },
    {
      "cell_type": "code",
      "metadata": {
        "id": "7kKdZv1yz78f"
      },
      "source": [
        "testsub = 'credit_test.csv'\r\n",
        "testsub = pd.read_csv(testsub,  sep=',', low_memory=False)"
      ],
      "execution_count": null,
      "outputs": []
    },
    {
      "cell_type": "code",
      "metadata": {
        "id": "DOirT5dfwLBd"
      },
      "source": [
        "y_pred = rf.predict(test) \r\n",
        "y_pred_proba = rf.predict_proba(test)\r\n",
        "y_pred_proba = y_pred_proba[: ][: , 1]"
      ],
      "execution_count": null,
      "outputs": []
    },
    {
      "cell_type": "code",
      "metadata": {
        "id": "YZsOYtvjv5jj"
      },
      "source": [
        "y_pred_proba/=10"
      ],
      "execution_count": null,
      "outputs": []
    },
    {
      "cell_type": "code",
      "metadata": {
        "colab": {
          "base_uri": "https://localhost:8080/"
        },
        "id": "EZoZ8cK5xO3x",
        "outputId": "aec74491-cbe8-4e01-b606-40731a719ed8"
      },
      "source": [
        "y_pred_proba.shape"
      ],
      "execution_count": null,
      "outputs": [
        {
          "output_type": "execute_result",
          "data": {
            "text/plain": [
              "(10353,)"
            ]
          },
          "metadata": {
            "tags": []
          },
          "execution_count": 271
        }
      ]
    },
    {
      "cell_type": "code",
      "metadata": {
        "id": "4ymB2VrByNw2"
      },
      "source": [
        "testsub['Probability_of_default'] = y_pred_proba"
      ],
      "execution_count": null,
      "outputs": []
    },
    {
      "cell_type": "code",
      "metadata": {
        "colab": {
          "base_uri": "https://localhost:8080/",
          "height": 204
        },
        "id": "p_JhSSW50NEt",
        "outputId": "a70c9bc7-8f72-45a9-af67-f9a3f865aff4"
      },
      "source": [
        "testsubi = testsub[['Customer ID', 'Probability_of_default']]\r\n",
        "testsubi.head()"
      ],
      "execution_count": null,
      "outputs": [
        {
          "output_type": "execute_result",
          "data": {
            "text/html": [
              "<div>\n",
              "<style scoped>\n",
              "    .dataframe tbody tr th:only-of-type {\n",
              "        vertical-align: middle;\n",
              "    }\n",
              "\n",
              "    .dataframe tbody tr th {\n",
              "        vertical-align: top;\n",
              "    }\n",
              "\n",
              "    .dataframe thead th {\n",
              "        text-align: right;\n",
              "    }\n",
              "</style>\n",
              "<table border=\"1\" class=\"dataframe\">\n",
              "  <thead>\n",
              "    <tr style=\"text-align: right;\">\n",
              "      <th></th>\n",
              "      <th>Customer ID</th>\n",
              "      <th>Probability_of_default</th>\n",
              "    </tr>\n",
              "  </thead>\n",
              "  <tbody>\n",
              "    <tr>\n",
              "      <th>0</th>\n",
              "      <td>ded0b3c3-6bf4-4091-8726-47039f2c1b90</td>\n",
              "      <td>0.012621</td>\n",
              "    </tr>\n",
              "    <tr>\n",
              "      <th>1</th>\n",
              "      <td>1630e6e3-34e3-461a-8fda-09297d3140c8</td>\n",
              "      <td>0.015925</td>\n",
              "    </tr>\n",
              "    <tr>\n",
              "      <th>2</th>\n",
              "      <td>2c60938b-ad2b-4702-804d-eeca43949c52</td>\n",
              "      <td>0.019894</td>\n",
              "    </tr>\n",
              "    <tr>\n",
              "      <th>3</th>\n",
              "      <td>12116614-2f3c-4d16-ad34-d92883718806</td>\n",
              "      <td>0.022203</td>\n",
              "    </tr>\n",
              "    <tr>\n",
              "      <th>4</th>\n",
              "      <td>39888105-fd5f-4023-860a-30a3e6f5ccb7</td>\n",
              "      <td>0.015513</td>\n",
              "    </tr>\n",
              "  </tbody>\n",
              "</table>\n",
              "</div>"
            ],
            "text/plain": [
              "                            Customer ID  Probability_of_default\n",
              "0  ded0b3c3-6bf4-4091-8726-47039f2c1b90                0.012621\n",
              "1  1630e6e3-34e3-461a-8fda-09297d3140c8                0.015925\n",
              "2  2c60938b-ad2b-4702-804d-eeca43949c52                0.019894\n",
              "3  12116614-2f3c-4d16-ad34-d92883718806                0.022203\n",
              "4  39888105-fd5f-4023-860a-30a3e6f5ccb7                0.015513"
            ]
          },
          "metadata": {
            "tags": []
          },
          "execution_count": 277
        }
      ]
    },
    {
      "cell_type": "markdown",
      "metadata": {
        "id": "Pkjs4zyQ_n6L"
      },
      "source": [
        "## **5. Evaluation of result**"
      ]
    },
    {
      "cell_type": "markdown",
      "metadata": {
        "id": "Hn6kls6C0eKp"
      },
      "source": [
        "From the above, we were able to solve an important Business problem in regards to Loan issuance for financial institution to customer. The model has a probability score given to each customer that range from 0.002 to 0.08. The lower the score the higher the risk for that customer. This score range helps checkmate if a given customer is liable to default if given loan.\r\n",
        "However, there are few things to take into consideration:\r\n",
        "1. There is still avenue to improve model performance such as conducting another Feature engineering and the above method didn't have a strong use for the model\r\n",
        "\r\n",
        "2. Missing value as we understand that all columns has missing values. Most importantly, credit score column has a distinct missing value which affect the rest of the data as well. This should be avoided as it is an important feature and filling it brings bias to our model which leads to error in predicting possible customer that will default. This is as a result of Missing not at random. Other columns such as current loan amount, annual income, Months since last delinquent and Bankruptcies among others also had missing values with will practically make our model predict wrongly.\r\n",
        "\r\n",
        "3. The imbalance nature of the dataset in regard to **default_not** column is high and this is another major reason why the model is performing badly in recall for default class. A more better approch could be to use statistical method to resample the data to help solve Imbalance case. Also, we could try Undersampling to see if this could work,.\r\n",
        "\r\n",
        "3. we could also do hyperparameter on the selected algorithm and create a robust pipeline to enable model work freely in production environment but due to time it is best to maintain this method."
      ]
    },
    {
      "cell_type": "markdown",
      "metadata": {
        "id": "eID3PGTY6Jd4"
      },
      "source": [
        ""
      ]
    },
    {
      "cell_type": "code",
      "metadata": {
        "id": "aE9kdEWy0ZRS"
      },
      "source": [
        ""
      ],
      "execution_count": null,
      "outputs": []
    }
  ]
}